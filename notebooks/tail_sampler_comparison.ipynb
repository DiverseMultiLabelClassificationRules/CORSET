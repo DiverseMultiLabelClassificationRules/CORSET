{
 "cells": [
  {
   "cell_type": "code",
   "execution_count": 2,
   "id": "465d3dbd",
   "metadata": {},
   "outputs": [
    {
     "name": "stdout",
     "output_type": "stream",
     "text": [
      "The autoreload extension is already loaded. To reload it, use:\n",
      "  %reload_ext autoreload\n"
     ]
    }
   ],
   "source": [
    "%load_ext autoreload\n",
    "%autoreload 2\n",
    "import sys\n",
    "sys.path.insert(0, '../')"
   ]
  },
  {
   "cell_type": "code",
   "execution_count": 3,
   "id": "7c06299a",
   "metadata": {},
   "outputs": [],
   "source": [
    "import json\n",
    "import numpy as np\n",
    "import networkx as nx\n",
    "import pandas as pd\n",
    "import seaborn as sns\n",
    "from time import time\n",
    "from matplotlib import pyplot as plt\n",
    "# from scipy import sparse as sp\n",
    "# from scipy.special import binom\n",
    "# from sklearn.base import BaseEstimator\n",
    "\n",
    "# from corset.graph import construct_confidence_graph, show_subgraph, sample_clique, subgraph_stat\n",
    "from corset.utils import pjoin ,makedir, convert_matrix_to_sets, save_pickle\n",
    "from corset.data import Dataset\n",
    "from corset.evaluation import TailEvaluator\n",
    "# from corset.samplers.rw import RWFrequencySampler, RWAreaSampler\n",
    "# from corset.samplers.fc import RCFrequencySampler\n",
    "from corset.samplers.pc import PCFrequencySampler\n",
    "from corset.samplers.freq import BoleyFrequencySampler\n",
    "from corset.samplers.area import BoleyAreaSampler\n",
    "from corset.samplers.uncovered_area import UncoveredAreaSampler\n",
    "# from corset.samplers.greedy import GreedyAreaSampler\n",
    "\n",
    "from tqdm import tqdm"
   ]
  },
  {
   "cell_type": "code",
   "execution_count": 4,
   "id": "1c828cc4",
   "metadata": {},
   "outputs": [],
   "source": [
    "from viz_utils import set_mpl_style, dataset_ordering\n",
    "    \n",
    "set_mpl_style()    "
   ]
  },
  {
   "cell_type": "code",
   "execution_count": 5,
   "id": "4374685b",
   "metadata": {},
   "outputs": [],
   "source": [
    "sample_size = 1000\n",
    "output_path = '../plots/tail-sampler-comparison.pdf'\n",
    "makedir(output_path, usedir=True)\n",
    "\n",
    "\n",
    "\n",
    "def run(ds_name, sample_size, random_state=123):\n",
    "    print(ds_name)\n",
    "    ds = Dataset(name=ds_name, datadir='../data')\n",
    "    ds.load()\n",
    "    ds.build_confidence_graph()\n",
    "    te = TailEvaluator(ds)\n",
    "\n",
    "    perf = {}\n",
    "    samplers = [\n",
    "        # ('pc-freq', PCFrequencySampler(min_proba=0.25, random_state=random_state, do_prune_edges=True)),\n",
    "        ('ours-area', UncoveredAreaSampler(min_proba=0.5, random_state=random_state, do_prune_edges=True)),\n",
    "        # ('fc-freq', RCFrequencySampler(n_graph_samples=1000, min_proba=0.5, random_state=random_state)),\n",
    "        # ('boley-freq', BoleyFrequencySampler(random_state=random_state)),\n",
    "        ('boley-area', BoleyAreaSampler(random_state=random_state)),\n",
    "    ]\n",
    "    df_list = []\n",
    "    for name, sampler in tqdm(samplers):\n",
    "        s = time()\n",
    "        # if isinstance(sampler, GreedyAreaSampler):\n",
    "        #     # use both X and Y, as dense matrices \n",
    "        #     sampler.fit(ds.trn_X.toarray(), ds.trn_Y.toarray())\n",
    "        # else:\n",
    "        #     sampler.fit(ds.trn_Y)\n",
    "        sampler.fit(ds.trn_Y)\n",
    "        fit_time = time() - s\n",
    "        s = time()\n",
    "        tails = sampler.sample(sample_size)\n",
    "        sample_time = time() - s\n",
    "\n",
    "        sampler_perf = te.report(tails, concat_cols=True)\n",
    "        sampler_perf\n",
    "        sampler_perf['dataset'] = ds_name\n",
    "        sampler_perf['sampler'] = name\n",
    "        df_list.append(sampler_perf)\n",
    "#         perf[name] = te.report(tails)\n",
    "#         perf[name]['fit_time'] = fit_time\n",
    "#         perf[name]['sample_time'] = sample_time\n",
    "\n",
    "    return pd.concat(df_list, ignore_index=True)"
   ]
  },
  {
   "cell_type": "code",
   "execution_count": 6,
   "id": "8f67d78b",
   "metadata": {
    "scrolled": false
   },
   "outputs": [
    {
     "name": "stdout",
     "output_type": "stream",
     "text": [
      "mediamill\n"
     ]
    },
    {
     "name": "stderr",
     "output_type": "stream",
     "text": [
      "  0%|                                                                                                                                                                                                                                                   | 0/2 [00:00<?, ?it/s][D 230115 22:42:39 pc:129] confidence graph construction: done\n",
      "[D 230115 22:42:39 pc:131] converting to connectivity graph: done\n",
      "[D 230115 22:42:39 pc:106] prune edges from the graph: done\n",
      "[D 230115 22:42:39 pc:107] number of nodes: 101\n",
      "[D 230115 22:42:39 pc:108] number of edges change: 2118 -> 380\n",
      "\n",
      "100%|████████████████████████████████████████████████████████████████████████████████████████████████████████████████████████████████████████████████████████████████████████████████████████████████████████████████████████████████████| 101/101 [00:00<00:00, 69847.44it/s]\u001b[A\n",
      "[D 230115 22:42:39 pc:120] running dfs takes: 0.01016998291015625\n",
      "[D 230115 22:42:39 pc:122] sample space size: 893\n",
      "[D 230115 22:42:39 PRETTI_invertedIndex:11] building inverted index...\n"
     ]
    },
    {
     "name": "stdout",
     "output_type": "stream",
     "text": [
      "elapsed in dfs_v2_aux: 0.008252859115600586\n"
     ]
    },
    {
     "name": "stderr",
     "output_type": "stream",
     "text": [
      "[D 230115 22:42:45 PRETTI_invertedIndex:7] done\n",
      "[I 230115 22:42:45 assignment:72] sample assignment done\n",
      "100%|███████████████████████████████████████████████████████████████████████████████████████████████████████████████████████████████████████████████████████████████████████████████████████████████████████████████████████████████████████████| 2/2 [00:13<00:00,  6.85s/it]\n"
     ]
    },
    {
     "name": "stdout",
     "output_type": "stream",
     "text": [
      "Yelp\n"
     ]
    },
    {
     "name": "stderr",
     "output_type": "stream",
     "text": [
      "  0%|                                                                                                                                                                                                                                                   | 0/2 [00:00<?, ?it/s][D 230115 22:42:56 pc:129] confidence graph construction: done\n",
      "[D 230115 22:42:56 pc:131] converting to connectivity graph: done\n",
      "[D 230115 22:42:56 pc:106] prune edges from the graph: done\n",
      "[D 230115 22:42:56 pc:107] number of nodes: 5\n",
      "[D 230115 22:42:56 pc:108] number of edges change: 10 -> 6\n",
      "\n",
      "100%|████████████████████████████████████████████████████████████████████████████████████████████████████████████████████████████████████████████████████████████████████████████████████████████████████████████████████████████████████████| 5/5 [00:00<00:00, 25890.77it/s]\u001b[A\n",
      "[D 230115 22:42:56 pc:120] running dfs takes: 0.0029571056365966797\n",
      "[D 230115 22:42:56 pc:122] sample space size: 11\n",
      "[D 230115 22:42:56 PRETTI_invertedIndex:11] building inverted index...\n",
      "[D 230115 22:42:56 PRETTI_invertedIndex:7] done\n",
      "[I 230115 22:42:56 assignment:72] sample assignment done\n"
     ]
    },
    {
     "name": "stdout",
     "output_type": "stream",
     "text": [
      "elapsed in dfs_v2_aux: 0.002919912338256836\n"
     ]
    },
    {
     "name": "stderr",
     "output_type": "stream",
     "text": [
      "100%|███████████████████████████████████████████████████████████████████████████████████████████████████████████████████████████████████████████████████████████████████████████████████████████████████████████████████████████████████████████| 2/2 [00:02<00:00,  1.35s/it]\n"
     ]
    },
    {
     "name": "stdout",
     "output_type": "stream",
     "text": [
      "corel5k\n"
     ]
    },
    {
     "name": "stderr",
     "output_type": "stream",
     "text": [
      "  0%|                                                                                                                                                                                                                                                   | 0/2 [00:00<?, ?it/s][D 230115 22:43:01 pc:129] confidence graph construction: done\n",
      "[D 230115 22:43:01 pc:131] converting to connectivity graph: done\n",
      "[D 230115 22:43:01 pc:106] prune edges from the graph: done\n",
      "[D 230115 22:43:01 pc:107] number of nodes: 374\n",
      "[D 230115 22:43:01 pc:108] number of edges change: 3536 -> 527\n",
      "\n",
      "100%|███████████████████████████████████████████████████████████████████████████████████████████████████████████████████████████████████████████████████████████████████████████████████████████████████████████████████████████████████| 374/374 [00:00<00:00, 705337.09it/s]\u001b[A\n",
      "[D 230115 22:43:01 pc:120] running dfs takes: 0.0071680545806884766\n",
      "[D 230115 22:43:01 pc:122] sample space size: 977\n",
      "[D 230115 22:43:01 PRETTI_invertedIndex:11] building inverted index...\n"
     ]
    },
    {
     "name": "stdout",
     "output_type": "stream",
     "text": [
      "elapsed in dfs_v2_aux: 0.0070819854736328125\n"
     ]
    },
    {
     "name": "stderr",
     "output_type": "stream",
     "text": [
      "[D 230115 22:43:02 PRETTI_invertedIndex:7] done\n",
      "[I 230115 22:43:02 assignment:72] sample assignment done\n",
      "100%|███████████████████████████████████████████████████████████████████████████████████████████████████████████████████████████████████████████████████████████████████████████████████████████████████████████████████████████████████████████| 2/2 [00:03<00:00,  1.86s/it]\n"
     ]
    },
    {
     "name": "stdout",
     "output_type": "stream",
     "text": [
      "bibtex\n"
     ]
    },
    {
     "name": "stderr",
     "output_type": "stream",
     "text": [
      "  0%|                                                                                                                                                                                                                                                   | 0/2 [00:00<?, ?it/s][D 230115 22:43:06 pc:129] confidence graph construction: done\n",
      "[D 230115 22:43:06 pc:131] converting to connectivity graph: done\n",
      "[D 230115 22:43:06 pc:106] prune edges from the graph: done\n",
      "[D 230115 22:43:06 pc:107] number of nodes: 159\n",
      "[D 230115 22:43:06 pc:108] number of edges change: 3506 -> 117\n",
      "\n",
      "100%|███████████████████████████████████████████████████████████████████████████████████████████████████████████████████████████████████████████████████████████████████████████████████████████████████████████████████████████████████| 159/159 [00:00<00:00, 670919.86it/s]\u001b[A\n",
      "[D 230115 22:43:06 pc:120] running dfs takes: 0.0044078826904296875\n",
      "[D 230115 22:43:06 pc:122] sample space size: 286\n",
      "[D 230115 22:43:06 PRETTI_invertedIndex:11] building inverted index...\n"
     ]
    },
    {
     "name": "stdout",
     "output_type": "stream",
     "text": [
      "elapsed in dfs_v2_aux: 0.004354715347290039\n"
     ]
    },
    {
     "name": "stderr",
     "output_type": "stream",
     "text": [
      "[D 230115 22:43:07 PRETTI_invertedIndex:7] done\n",
      "[I 230115 22:43:07 assignment:72] sample assignment done\n",
      "100%|███████████████████████████████████████████████████████████████████████████████████████████████████████████████████████████████████████████████████████████████████████████████████████████████████████████████████████████████████████████| 2/2 [00:05<00:00,  2.53s/it]\n"
     ]
    },
    {
     "name": "stdout",
     "output_type": "stream",
     "text": [
      "enron\n"
     ]
    },
    {
     "name": "stderr",
     "output_type": "stream",
     "text": [
      "  0%|                                                                                                                                                                                                                                                   | 0/2 [00:00<?, ?it/s][D 230115 22:43:11 pc:129] confidence graph construction: done\n",
      "[D 230115 22:43:11 pc:131] converting to connectivity graph: done\n",
      "[D 230115 22:43:11 pc:106] prune edges from the graph: done\n",
      "[D 230115 22:43:11 pc:107] number of nodes: 53\n",
      "[D 230115 22:43:11 pc:108] number of edges change: 576 -> 111\n",
      "\n",
      "100%|█████████████████████████████████████████████████████████████████████████████████████████████████████████████████████████████████████████████████████████████████████████████████████████████████████████████████████████████████████| 53/53 [00:00<00:00, 154588.39it/s]\u001b[A\n",
      "[D 230115 22:43:11 pc:120] running dfs takes: 0.004791975021362305\n",
      "[D 230115 22:43:11 pc:122] sample space size: 182\n",
      "[D 230115 22:43:11 PRETTI_invertedIndex:11] building inverted index...\n",
      "[D 230115 22:43:11 PRETTI_invertedIndex:7] done\n",
      "[I 230115 22:43:11 assignment:72] sample assignment done\n"
     ]
    },
    {
     "name": "stdout",
     "output_type": "stream",
     "text": [
      "elapsed in dfs_v2_aux: 0.004720211029052734\n"
     ]
    },
    {
     "name": "stderr",
     "output_type": "stream",
     "text": [
      "100%|███████████████████████████████████████████████████████████████████████████████████████████████████████████████████████████████████████████████████████████████████████████████████████████████████████████████████████████████████████████| 2/2 [00:01<00:00,  1.11it/s]\n"
     ]
    },
    {
     "name": "stdout",
     "output_type": "stream",
     "text": [
      "medical\n"
     ]
    },
    {
     "name": "stderr",
     "output_type": "stream",
     "text": [
      "  0%|                                                                                                                                                                                                                                                   | 0/2 [00:00<?, ?it/s][D 230115 22:43:13 pc:129] confidence graph construction: done\n",
      "[D 230115 22:43:13 pc:131] converting to connectivity graph: done\n",
      "[D 230115 22:43:13 pc:106] prune edges from the graph: done\n",
      "[D 230115 22:43:13 pc:107] number of nodes: 45\n",
      "[D 230115 22:43:13 pc:108] number of edges change: 63 -> 23\n",
      "\n",
      "100%|█████████████████████████████████████████████████████████████████████████████████████████████████████████████████████████████████████████████████████████████████████████████████████████████████████████████████████████████████████| 45/45 [00:00<00:00, 401582.30it/s]\u001b[A\n",
      "[D 230115 22:43:13 pc:120] running dfs takes: 0.003922939300537109\n",
      "[D 230115 22:43:13 pc:122] sample space size: 69\n",
      "[D 230115 22:43:13 PRETTI_invertedIndex:11] building inverted index...\n",
      "[D 230115 22:43:13 PRETTI_invertedIndex:7] done\n",
      "[I 230115 22:43:13 assignment:72] sample assignment done\n"
     ]
    },
    {
     "name": "stdout",
     "output_type": "stream",
     "text": [
      "elapsed in dfs_v2_aux: 0.003856182098388672\n"
     ]
    },
    {
     "name": "stderr",
     "output_type": "stream",
     "text": [
      "100%|███████████████████████████████████████████████████████████████████████████████████████████████████████████████████████████████████████████████████████████████████████████████████████████████████████████████████████████████████████████| 2/2 [00:01<00:00,  1.01it/s]\n"
     ]
    },
    {
     "name": "stdout",
     "output_type": "stream",
     "text": [
      "birds\n"
     ]
    },
    {
     "name": "stderr",
     "output_type": "stream",
     "text": [
      "  0%|                                                                                                                                                                                                                                                   | 0/2 [00:00<?, ?it/s][D 230115 22:43:15 pc:129] confidence graph construction: done\n",
      "[D 230115 22:43:15 pc:131] converting to connectivity graph: done\n",
      "[D 230115 22:43:15 pc:106] prune edges from the graph: done\n",
      "[D 230115 22:43:15 pc:107] number of nodes: 19\n",
      "[D 230115 22:43:15 pc:108] number of edges change: 85 -> 9\n",
      "\n",
      "100%|█████████████████████████████████████████████████████████████████████████████████████████████████████████████████████████████████████████████████████████████████████████████████████████████████████████████████████████████████████| 19/19 [00:00<00:00, 240035.47it/s]\u001b[A\n",
      "[D 230115 22:43:15 pc:120] running dfs takes: 0.0031599998474121094\n",
      "[D 230115 22:43:15 pc:122] sample space size: 28\n",
      "[D 230115 22:43:15 PRETTI_invertedIndex:11] building inverted index...\n",
      "[D 230115 22:43:15 PRETTI_invertedIndex:7] done\n",
      "[I 230115 22:43:15 assignment:72] sample assignment done\n"
     ]
    },
    {
     "name": "stdout",
     "output_type": "stream",
     "text": [
      "elapsed in dfs_v2_aux: 0.0031130313873291016\n"
     ]
    },
    {
     "name": "stderr",
     "output_type": "stream",
     "text": [
      "100%|███████████████████████████████████████████████████████████████████████████████████████████████████████████████████████████████████████████████████████████████████████████████████████████████████████████████████████████████████████████| 2/2 [00:01<00:00,  1.25it/s]\n"
     ]
    },
    {
     "name": "stdout",
     "output_type": "stream",
     "text": [
      "emotions\n"
     ]
    },
    {
     "name": "stderr",
     "output_type": "stream",
     "text": [
      "  0%|                                                                                                                                                                                                                                                   | 0/2 [00:00<?, ?it/s][D 230115 22:43:17 pc:129] confidence graph construction: done\n",
      "[D 230115 22:43:17 pc:131] converting to connectivity graph: done\n",
      "[D 230115 22:43:17 pc:106] prune edges from the graph: done\n",
      "[D 230115 22:43:17 pc:107] number of nodes: 6\n",
      "[D 230115 22:43:17 pc:108] number of edges change: 14 -> 6\n",
      "\n",
      "100%|████████████████████████████████████████████████████████████████████████████████████████████████████████████████████████████████████████████████████████████████████████████████████████████████████████████████████████████████████████| 6/6 [00:00<00:00, 81180.08it/s]\u001b[A\n",
      "[D 230115 22:43:17 pc:120] running dfs takes: 0.003435850143432617\n",
      "[D 230115 22:43:17 pc:122] sample space size: 13\n",
      "[D 230115 22:43:17 PRETTI_invertedIndex:11] building inverted index...\n",
      "[D 230115 22:43:17 PRETTI_invertedIndex:7] done\n",
      "[I 230115 22:43:17 assignment:72] sample assignment done\n"
     ]
    },
    {
     "name": "stdout",
     "output_type": "stream",
     "text": [
      "elapsed in dfs_v2_aux: 0.0033926963806152344\n"
     ]
    },
    {
     "name": "stderr",
     "output_type": "stream",
     "text": [
      "100%|███████████████████████████████████████████████████████████████████████████████████████████████████████████████████████████████████████████████████████████████████████████████████████████████████████████████████████████████████████████| 2/2 [00:01<00:00,  1.18it/s]\n"
     ]
    },
    {
     "name": "stdout",
     "output_type": "stream",
     "text": [
      "CAL500\n"
     ]
    },
    {
     "name": "stderr",
     "output_type": "stream",
     "text": [
      "  0%|                                                                                                                                                                                                                                                   | 0/2 [00:00<?, ?it/s][D 230115 22:43:20 pc:129] confidence graph construction: done\n",
      "[D 230115 22:43:20 pc:131] converting to connectivity graph: done\n",
      "[D 230115 22:43:20 pc:106] prune edges from the graph: done\n",
      "[D 230115 22:43:20 pc:107] number of nodes: 174\n",
      "[D 230115 22:43:20 pc:108] number of edges change: 10427 -> 3426\n",
      "\n",
      "100%|█████████████████████████████████████████████████████████████████████████████████████████████████████████████████████████████████████████████████████████████████████████████████████████████████████████████████████████████████████| 174/174 [00:00<00:00, 3146.92it/s]\u001b[A\n",
      "[D 230115 22:43:20 pc:120] running dfs takes: 0.07145118713378906\n",
      "[D 230115 22:43:20 pc:122] sample space size: 11459\n",
      "[D 230115 22:43:20 PRETTI_invertedIndex:11] building inverted index...\n",
      "[D 230115 22:43:20 PRETTI_invertedIndex:7] done\n"
     ]
    },
    {
     "name": "stdout",
     "output_type": "stream",
     "text": [
      "elapsed in dfs_v2_aux: 0.07128286361694336\n"
     ]
    },
    {
     "name": "stderr",
     "output_type": "stream",
     "text": [
      "[I 230115 22:43:20 assignment:72] sample assignment done\n",
      "100%|███████████████████████████████████████████████████████████████████████████████████████████████████████████████████████████████████████████████████████████████████████████████████████████████████████████████████████████████████████████| 2/2 [00:06<00:00,  3.06s/it]\n"
     ]
    }
   ],
   "source": [
    "# ds_name_list = ['bibtex']\n",
    "ds_name_list = ['mediamill', 'Yelp', 'corel5k', 'bibtex', 'enron', 'medical', 'birds', 'emotions', 'CAL500']\n",
    "perf_list = {ds_name: run(ds_name, sample_size) for ds_name in ds_name_list}"
   ]
  },
  {
   "cell_type": "code",
   "execution_count": 7,
   "id": "fd3303c0",
   "metadata": {},
   "outputs": [],
   "source": [
    "df = pd.concat(perf_list, ignore_index=True)\n",
    "df_aug = df.copy()\n",
    "col = 'support_size'\n",
    "for col in ('support_size', 'area', 'length'):\n",
    "    mask = (df['metric'] == col)\n",
    "    df_transformed = df[mask].copy()\n",
    "    df_transformed['score'] = np.log(df_transformed['score'])\n",
    "    df_transformed['metric'] = 'log(' + df_transformed['metric'] + ')'\n",
    "\n",
    "    df_aug = pd.concat([df_aug, df_transformed])"
   ]
  },
  {
   "cell_type": "code",
   "execution_count": 8,
   "id": "cb994e1b",
   "metadata": {},
   "outputs": [],
   "source": [
    "df_aug['metric'].unique()\n",
    "\n",
    "support_size_name = r'$\\log(|\\mathcal{D}[T]|)$'\n",
    "area_name = r'$\\log(area(T))$'\n",
    "edge_ratio_name = r'$d(T)$'\n",
    "\n",
    "metric_name_mapping = {\n",
    "    'log(support_size)': support_size_name,\n",
    "    'log(area)': area_name,\n",
    "    'edge_ratio': edge_ratio_name\n",
    "}\n",
    "df_aug = df_aug.assign(**{\n",
    "    'metric-renamed': df_aug['metric'].apply(lambda v: metric_name_mapping.get(v, v))\n",
    "})"
   ]
  },
  {
   "cell_type": "code",
   "execution_count": 9,
   "id": "ebd68e45",
   "metadata": {},
   "outputs": [],
   "source": [
    "metrics_of_concern = {support_size_name, area_name, edge_ratio_name}\n",
    "mask = df_aug['metric-renamed'].apply(lambda v: v in metrics_of_concern)\n",
    "subdf = df_aug[mask]"
   ]
  },
  {
   "cell_type": "code",
   "execution_count": 10,
   "id": "708d425d",
   "metadata": {},
   "outputs": [],
   "source": [
    "# rename the sampler name\n",
    "sampler_name_mapping = {'ours-area': 'interpretable', 'boley-area': 'original'}\n",
    "subdf = subdf.assign(**{'sampler-renamed': subdf['sampler'].apply(lambda v: sampler_name_mapping[v])})"
   ]
  },
  {
   "cell_type": "code",
   "execution_count": 11,
   "id": "5f292017",
   "metadata": {},
   "outputs": [
    {
     "data": {
      "image/png": "[encoded data removed]",
      "text/plain": [
       "<Figure size 1211.72x360 with 3 Axes>"
      ]
     },
     "metadata": {},
     "output_type": "display_data"
    }
   ],
   "source": [
    "\n",
    "\n",
    "# make the labels more readable\n",
    "subdf = subdf.rename(columns={'sampler-renamed': 'Tail sample space', 'dataset': 'Dataset'})\n",
    "plot = sns.catplot(\n",
    "    data=subdf, x=\"score\", y=\"Dataset\", hue=\"Tail sample space\", col='metric-renamed',\n",
    "    col_order=[support_size_name, area_name, edge_ratio_name],\n",
    "    kind=\"violin\", bw=.25, cut=0, split=True,\n",
    "    sharex=False,\n",
    "    order=dataset_ordering\n",
    ")\n",
    "fig = plot.figure\n",
    "# fig.tight_layout()\n",
    "for ax in fig.axes:\n",
    "    title = ax.title.get_text()\n",
    "    ax.set_title('')\n",
    "    xlabel = title.split('=')[1].strip()\n",
    "    ax.set_xlabel(xlabel)\n",
    "\n",
    "fig.savefig(output_path)"
   ]
  }
 ],
 "metadata": {
  "kernelspec": {
   "display_name": "Python 3 (ipykernel)",
   "language": "python",
   "name": "python3"
  },
  "language_info": {
   "codemirror_mode": {
    "name": "ipython",
    "version": 3
   },
   "file_extension": ".py",
   "mimetype": "text/x-python",
   "name": "python",
   "nbconvert_exporter": "python",
   "pygments_lexer": "ipython3",
   "version": "3.8.16"
  },
  "name": "tail_sampler_comparison.ipynb"
 },
 "nbformat": 4,
 "nbformat_minor": 5
}
