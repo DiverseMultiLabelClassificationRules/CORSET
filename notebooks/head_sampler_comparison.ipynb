{
 "cells": [
  {
   "cell_type": "code",
   "execution_count": 1,
   "id": "5d48f11e",
   "metadata": {},
   "outputs": [],
   "source": [
    "%load_ext autoreload\n",
    "%autoreload 2\n",
    "import sys\n",
    "sys.path.insert(0, '../')"
   ]
  },
  {
   "cell_type": "code",
   "execution_count": 2,
   "id": "522b0f12",
   "metadata": {},
   "outputs": [],
   "source": [
    "import numpy as np\n",
    "import pandas as pd\n",
    "import seaborn as sns\n",
    "\n",
    "from tqdm import tqdm\n",
    "\n",
    "from corset.data import Dataset\n",
    "from corset.utils import flatten, makedir\n",
    "from corset.samplers.discrim import CFTPDiscriminativitySampler\n",
    "from corset.samplers.boley_discrim import BoleyCFTPDiscriminativitySampler\n",
    "from corset.rule import Rule\n"
   ]
  },
  {
   "cell_type": "code",
   "execution_count": 3,
   "id": "99d930a3",
   "metadata": {},
   "outputs": [],
   "source": [
    "from viz_utils import set_mpl_style\n",
    "    \n",
    "set_mpl_style()    "
   ]
  },
  {
   "cell_type": "code",
   "execution_count": 4,
   "id": "c36eab91",
   "metadata": {},
   "outputs": [],
   "source": [
    "from typing import List, Tuple, Set\n",
    "\n",
    "\n",
    "class SingleRuleEvaluator:\n",
    "    def __init__(self, ds: Dataset):\n",
    "        self._ds = ds\n",
    "        self.Y_csc = self._ds.trn_Y.tocsc()\n",
    "        self.X_csc = self._ds.trn_X.tocsc()\n",
    "        \n",
    "    def evaluate_rule(self, head: Set[int], tail: Set[int]):\n",
    "        rule = Rule(head, tail)\n",
    "        rule.bind_dataset(self.X_csc, self.Y_csc)\n",
    "        perf = {\n",
    "            'precision': rule.precision(), \n",
    "            'recall': rule.recall(),\n",
    "            'KL_times_coverage': rule.marginal_coverage([]) * rule.KL(),\n",
    "            'head_length': len(rule.head)\n",
    "        }\n",
    "        return perf\n",
    "\n",
    "    def evaluate_rule_batch(self, rules: List[Tuple[Set[int]]]):\n",
    "        return [self.evaluate_rule(*rule) for rule in rules]"
   ]
  },
  {
   "cell_type": "code",
   "execution_count": 5,
   "id": "b1353179",
   "metadata": {},
   "outputs": [],
   "source": [
    "from corset.samplers.uncovered_area import UncoveredAreaSampler\n",
    "from corset.evaluation import TailEvaluator\n",
    "from corset.utils import conjunctive_collapse_v2"
   ]
  },
  {
   "cell_type": "code",
   "execution_count": 6,
   "id": "12e4262a",
   "metadata": {},
   "outputs": [],
   "source": [
    "def get_top_tails_by_area(ds, num_tails):\n",
    "    tail_sampler = UncoveredAreaSampler(min_proba=0.5, random_state=1234, do_prune_edges=True)\n",
    "    tail_sampler.fit(ds.trn_Y)\n",
    "\n",
    "    te = TailEvaluator(ds)\n",
    "    area_arr = te.area(tail_sampler._sample_space)\n",
    "    tail_idx = np.argsort(area_arr)[::-1][:num_tails]\n",
    "    return [tail_sampler._sample_space[idx] for idx in tail_idx]\n",
    "\n"
   ]
  },
  {
   "cell_type": "code",
   "execution_count": 7,
   "id": "ba108d70",
   "metadata": {},
   "outputs": [],
   "source": [
    "def run_experiment_for_dataset(\n",
    "    dataset_name, min_proba,\n",
    "    num_samples_per_label=100,\n",
    "    label_sample_size=50  # number of labels to sample\n",
    "):\n",
    "    ds = Dataset(name=dataset_name, datadir='../data')\n",
    "    ds.load()\n",
    "    X, Y = ds.trn_X, ds.trn_Y    \n",
    "\n",
    "    Y_csc = Y.tocsc()\n",
    "    \n",
    "    sampler_ours = CFTPDiscriminativitySampler(proposal_distribution='tight', min_proba=min_proba)\n",
    "    sampler_ours.build_sample_space_and_generate_rows(X)\n",
    "    sampler_boley = BoleyCFTPDiscriminativitySampler()\n",
    "\n",
    "    samplers = {\n",
    "        'ours': sampler_ours,\n",
    "        'boley': sampler_boley\n",
    "    }    \n",
    "\n",
    "    label_samples = np.random.permutation(Y.shape[1])[:label_sample_size]\n",
    "    \n",
    "    tail_sampels = get_top_tails_by_area(ds, label_sample_size)\n",
    "    \n",
    "    ev = SingleRuleEvaluator(ds)\n",
    "    rows = []\n",
    "    for tail in tqdm(tail_sampels):\n",
    "        y = conjunctive_collapse_v2(Y_csc, tail)\n",
    "\n",
    "        if len(np.unique(y)) < 2:\n",
    "            # continue only one class, skip\n",
    "            continue\n",
    "        \n",
    "        for name, sampler in samplers.items():\n",
    "            sampler.fit(X, y)\n",
    "            sampled_heads = sampler.sample(\n",
    "                k=num_samples_per_label\n",
    "            )\n",
    "\n",
    "            rules = [(head, tail) for head in sampled_heads]\n",
    "\n",
    "            records = ev.evaluate_rule_batch(rules)        \n",
    "\n",
    "            for rec in records:\n",
    "                rec['tail'] = tuple(tail)\n",
    "                rec['dataset'] = dataset_name\n",
    "                rec['sampler'] = name\n",
    "            rows += records\n",
    "\n",
    "    df = pd.DataFrame.from_records(rows)\n",
    "    df['f1'] = 2 * df['precision'] * df['recall'] / (df['precision'] +  df['recall'])\n",
    "    \n",
    "    return df"
   ]
  },
  {
   "cell_type": "code",
   "execution_count": 9,
   "id": "9b3cf95b",
   "metadata": {
    "scrolled": false
   },
   "outputs": [
    {
     "name": "stdout",
     "output_type": "stream",
     "text": [
      "experimenting with dataset mediamill\n"
     ]
    },
    {
     "name": "stderr",
     "output_type": "stream",
     "text": [
      "[D 230115 22:40:38 pc:129] confidence graph construction: done\n",
      "[D 230115 22:40:38 pc:131] converting to connectivity graph: done\n",
      "[D 230115 22:40:38 pc:106] prune edges from the graph: done\n",
      "[D 230115 22:40:38 pc:107] number of nodes: 120\n",
      "[D 230115 22:40:38 pc:108] number of edges change: 6211 -> 815\n",
      "100%|████████████████████████████████████████████████████████████████████████████████████████████████████████████████████████████████████████████████████████████████████████████████████████████████████████████████████████████████████| 120/120 [00:00<00:00, 11289.68it/s]\n",
      "[D 230115 22:40:38 pc:120] running dfs takes: 0.03143906593322754\n",
      "[D 230115 22:40:38 pc:122] sample space size: 3363\n",
      "[D 230115 22:40:38 PRETTI_invertedIndex:11] building inverted index...\n"
     ]
    },
    {
     "name": "stdout",
     "output_type": "stream",
     "text": [
      "elapsed in dfs_v2_aux: 0.029794931411743164\n"
     ]
    },
    {
     "name": "stderr",
     "output_type": "stream",
     "text": [
      "[D 230115 22:40:45 PRETTI_invertedIndex:7] done\n",
      "[I 230115 22:40:48 assignment:72] sample assignment done\n",
      "[D 230115 22:40:48 pc:129] confidence graph construction: done\n",
      "[D 230115 22:40:48 pc:131] converting to connectivity graph: done\n",
      "[D 230115 22:40:48 pc:106] prune edges from the graph: done\n",
      "[D 230115 22:40:48 pc:107] number of nodes: 101\n",
      "[D 230115 22:40:48 pc:108] number of edges change: 2118 -> 380\n",
      "100%|███████████████████████████████████████████████████████████████████████████████████████████████████████████████████████████████████████████████████████████████████████████████████████████████████████████████████████████████████| 101/101 [00:00<00:00, 120794.04it/s]\n",
      "[D 230115 22:40:48 pc:120] running dfs takes: 0.004900217056274414\n",
      "[D 230115 22:40:48 pc:122] sample space size: 893\n",
      "[D 230115 22:40:48 PRETTI_invertedIndex:11] building inverted index...\n"
     ]
    },
    {
     "name": "stdout",
     "output_type": "stream",
     "text": [
      "elapsed in dfs_v2_aux: 0.004842042922973633\n"
     ]
    },
    {
     "name": "stderr",
     "output_type": "stream",
     "text": [
      "[D 230115 22:40:54 PRETTI_invertedIndex:7] done\n",
      "[I 230115 22:40:55 assignment:72] sample assignment done\n",
      " 68%|██████████████████████████████████████████████████████████████████████████████████████████████████████████████████████████████████████████████████████████████▍                                                                          | 34/50 [01:24<00:35,  2.22s/it][W 230115 22:42:21 boley_cftp:115] W_C is close to 0. Possibly encountering overflow. \n",
      "     |D^+ / D^-|=0 and |D^+ \\cap D^-|=2147483648\n",
      "[W 230115 22:42:21 boley_cftp:115] W_C is close to 0. Possibly encountering overflow. \n",
      "     |D^+ / D^-|=0 and |D^+ \\cap D^-|=2147483648\n",
      "100%|█████████████████████████████████████████████████████████████████████████████████████████████████████████████████████████████████████████████████████████████████████████████████████████████████████████████████████████████████████████| 50/50 [02:01<00:00,  2.43s/it]\n"
     ]
    },
    {
     "name": "stdout",
     "output_type": "stream",
     "text": [
      "experimenting with dataset Yelp\n"
     ]
    },
    {
     "name": "stderr",
     "output_type": "stream",
     "text": [
      "[D 230115 22:43:09 pc:129] confidence graph construction: done\n",
      "[D 230115 22:43:12 pc:131] converting to connectivity graph: done\n",
      "[D 230115 22:43:12 pc:106] prune edges from the graph: done\n",
      "[D 230115 22:43:12 pc:107] number of nodes: 671\n",
      "[D 230115 22:43:12 pc:108] number of edges change: 204976 -> 103\n",
      "100%|██████████████████████████████████████████████████████████████████████████████████████████████████████████████████████████████████████████████████████████████████████████████████████████████████████████████████████████████████| 671/671 [00:00<00:00, 1091267.15it/s]\n",
      "[D 230115 22:43:13 pc:120] running dfs takes: 0.005013942718505859\n",
      "[D 230115 22:43:13 pc:122] sample space size: 778\n",
      "[D 230115 22:43:13 PRETTI_invertedIndex:11] building inverted index...\n"
     ]
    },
    {
     "name": "stdout",
     "output_type": "stream",
     "text": [
      "elapsed in dfs_v2_aux: 0.0048100948333740234\n"
     ]
    },
    {
     "name": "stderr",
     "output_type": "stream",
     "text": [
      "[D 230115 22:43:22 PRETTI_invertedIndex:7] done\n",
      "[I 230115 22:43:22 assignment:72] sample assignment done\n",
      "[D 230115 22:43:22 pc:129] confidence graph construction: done\n",
      "[D 230115 22:43:22 pc:131] converting to connectivity graph: done\n",
      "[D 230115 22:43:22 pc:106] prune edges from the graph: done\n",
      "[D 230115 22:43:22 pc:107] number of nodes: 5\n",
      "[D 230115 22:43:22 pc:108] number of edges change: 10 -> 6\n",
      "100%|████████████████████████████████████████████████████████████████████████████████████████████████████████████████████████████████████████████████████████████████████████████████████████████████████████████████████████████████████████| 5/5 [00:00<00:00, 27813.69it/s]\n",
      "[D 230115 22:43:22 pc:120] running dfs takes: 0.0030698776245117188\n",
      "[D 230115 22:43:22 pc:122] sample space size: 11\n",
      "[D 230115 22:43:22 PRETTI_invertedIndex:11] building inverted index...\n",
      "[D 230115 22:43:22 PRETTI_invertedIndex:7] done\n",
      "[I 230115 22:43:22 assignment:72] sample assignment done\n"
     ]
    },
    {
     "name": "stdout",
     "output_type": "stream",
     "text": [
      "elapsed in dfs_v2_aux: 0.0029990673065185547\n"
     ]
    },
    {
     "name": "stderr",
     "output_type": "stream",
     "text": [
      "100%|█████████████████████████████████████████████████████████████████████████████████████████████████████████████████████████████████████████████████████████████████████████████████████████████████████████████████████████████████████████| 11/11 [00:09<00:00,  1.14it/s]\n"
     ]
    },
    {
     "name": "stdout",
     "output_type": "stream",
     "text": [
      "experimenting with dataset corel5k\n"
     ]
    },
    {
     "name": "stderr",
     "output_type": "stream",
     "text": [
      "[D 230115 22:43:35 pc:129] confidence graph construction: done\n",
      "[D 230115 22:43:36 pc:131] converting to connectivity graph: done\n",
      "[D 230115 22:43:36 pc:106] prune edges from the graph: done\n",
      "[D 230115 22:43:36 pc:107] number of nodes: 499\n",
      "[D 230115 22:43:36 pc:108] number of edges change: 49631 -> 0\n",
      "100%|██████████████████████████████████████████████████████████████████████████████████████████████████████████████████████████████████████████████████████████████████████████████████████████████████████████████████████████████████| 499/499 [00:00<00:00, 1425720.50it/s]\n",
      "[D 230115 22:43:36 pc:120] running dfs takes: 0.003599882125854492\n",
      "[D 230115 22:43:36 pc:122] sample space size: 499\n",
      "[D 230115 22:43:36 PRETTI_invertedIndex:11] building inverted index...\n"
     ]
    },
    {
     "name": "stdout",
     "output_type": "stream",
     "text": [
      "elapsed in dfs_v2_aux: 0.003537893295288086\n"
     ]
    },
    {
     "name": "stderr",
     "output_type": "stream",
     "text": [
      "[D 230115 22:43:38 PRETTI_invertedIndex:7] done\n",
      "[I 230115 22:43:38 assignment:72] sample assignment done\n",
      "[D 230115 22:43:38 pc:129] confidence graph construction: done\n",
      "[D 230115 22:43:38 pc:131] converting to connectivity graph: done\n",
      "[D 230115 22:43:38 pc:106] prune edges from the graph: done\n",
      "[D 230115 22:43:38 pc:107] number of nodes: 374\n",
      "[D 230115 22:43:38 pc:108] number of edges change: 3536 -> 527\n",
      "100%|███████████████████████████████████████████████████████████████████████████████████████████████████████████████████████████████████████████████████████████████████████████████████████████████████████████████████████████████████| 374/374 [00:00<00:00, 678490.35it/s]\n",
      "[D 230115 22:43:38 pc:120] running dfs takes: 0.0052032470703125\n",
      "[D 230115 22:43:38 pc:122] sample space size: 977\n",
      "[D 230115 22:43:38 PRETTI_invertedIndex:11] building inverted index...\n"
     ]
    },
    {
     "name": "stdout",
     "output_type": "stream",
     "text": [
      "elapsed in dfs_v2_aux: 0.0051310062408447266\n"
     ]
    },
    {
     "name": "stderr",
     "output_type": "stream",
     "text": [
      "[D 230115 22:43:40 PRETTI_invertedIndex:7] done\n",
      "[I 230115 22:43:40 assignment:72] sample assignment done\n",
      "100%|█████████████████████████████████████████████████████████████████████████████████████████████████████████████████████████████████████████████████████████████████████████████████████████████████████████████████████████████████████████| 50/50 [00:09<00:00,  5.24it/s]\n"
     ]
    },
    {
     "name": "stdout",
     "output_type": "stream",
     "text": [
      "experimenting with dataset CAL500\n"
     ]
    },
    {
     "name": "stderr",
     "output_type": "stream",
     "text": [
      "[D 230115 22:43:50 pc:129] confidence graph construction: done\n",
      "[D 230115 22:43:50 pc:131] converting to connectivity graph: done\n",
      "[D 230115 22:43:50 pc:106] prune edges from the graph: done\n",
      "[D 230115 22:43:50 pc:107] number of nodes: 68\n",
      "[D 230115 22:43:50 pc:108] number of edges change: 2210 -> 23\n",
      "100%|█████████████████████████████████████████████████████████████████████████████████████████████████████████████████████████████████████████████████████████████████████████████████████████████████████████████████████████████████████| 68/68 [00:00<00:00, 183771.05it/s]\n",
      "[D 230115 22:43:50 pc:120] running dfs takes: 0.0029990673065185547\n",
      "[D 230115 22:43:50 pc:122] sample space size: 91\n",
      "[D 230115 22:43:50 PRETTI_invertedIndex:11] building inverted index...\n",
      "[D 230115 22:43:50 PRETTI_invertedIndex:7] done\n",
      "[I 230115 22:43:50 assignment:72] sample assignment done\n"
     ]
    },
    {
     "name": "stdout",
     "output_type": "stream",
     "text": [
      "elapsed in dfs_v2_aux: 0.0029480457305908203\n"
     ]
    },
    {
     "name": "stderr",
     "output_type": "stream",
     "text": [
      "[D 230115 22:43:50 pc:129] confidence graph construction: done\n",
      "[D 230115 22:43:50 pc:131] converting to connectivity graph: done\n",
      "[D 230115 22:43:50 pc:106] prune edges from the graph: done\n",
      "[D 230115 22:43:50 pc:107] number of nodes: 174\n",
      "[D 230115 22:43:50 pc:108] number of edges change: 10427 -> 3426\n",
      "100%|█████████████████████████████████████████████████████████████████████████████████████████████████████████████████████████████████████████████████████████████████████████████████████████████████████████████████████████████████████| 174/174 [00:00<00:00, 3155.77it/s]\n",
      "[D 230115 22:43:50 pc:120] running dfs takes: 0.0737309455871582\n",
      "[D 230115 22:43:50 pc:122] sample space size: 11459\n",
      "[D 230115 22:43:50 PRETTI_invertedIndex:11] building inverted index...\n",
      "[D 230115 22:43:50 PRETTI_invertedIndex:7] done\n"
     ]
    },
    {
     "name": "stdout",
     "output_type": "stream",
     "text": [
      "elapsed in dfs_v2_aux: 0.07354116439819336\n"
     ]
    },
    {
     "name": "stderr",
     "output_type": "stream",
     "text": [
      "[I 230115 22:43:51 assignment:72] sample assignment done\n",
      "100%|█████████████████████████████████████████████████████████████████████████████████████████████████████████████████████████████████████████████████████████████████████████████████████████████████████████████████████████████████████████| 50/50 [00:06<00:00,  8.12it/s]\n"
     ]
    },
    {
     "name": "stdout",
     "output_type": "stream",
     "text": [
      "experimenting with dataset bibtex\n"
     ]
    },
    {
     "name": "stderr",
     "output_type": "stream",
     "text": [
      "[D 230115 22:44:42 pc:129] confidence graph construction: done\n",
      "[D 230115 22:44:59 pc:131] converting to connectivity graph: done\n",
      "[D 230115 22:45:01 pc:106] prune edges from the graph: done\n",
      "[D 230115 22:45:01 pc:107] number of nodes: 1836\n",
      "[D 230115 22:45:01 pc:108] number of edges change: 1320369 -> 9790\n",
      "100%|███████████████████████████████████████████████████████████████████████████████████████████████████████████████████████████████████████████████████████████████████████████████████████████████████████████████████████████████████| 1836/1836 [00:00<00:00, 8452.48it/s]\n",
      "[D 230115 22:45:01 pc:120] running dfs takes: 0.25756311416625977\n"
     ]
    },
    {
     "name": "stdout",
     "output_type": "stream",
     "text": [
      "elapsed in dfs_v2_aux: 0.25669312477111816\n"
     ]
    },
    {
     "name": "stderr",
     "output_type": "stream",
     "text": [
      "[D 230115 22:45:01 pc:122] sample space size: 48292\n",
      "[D 230115 22:45:01 PRETTI_invertedIndex:11] building inverted index...\n",
      "[D 230115 22:45:24 PRETTI_invertedIndex:7] done\n",
      "[I 230115 22:45:31 assignment:72] sample assignment done\n",
      "[D 230115 22:45:31 pc:129] confidence graph construction: done\n",
      "[D 230115 22:45:31 pc:131] converting to connectivity graph: done\n",
      "[D 230115 22:45:31 pc:106] prune edges from the graph: done\n",
      "[D 230115 22:45:31 pc:107] number of nodes: 159\n",
      "[D 230115 22:45:31 pc:108] number of edges change: 3506 -> 117\n",
      "100%|███████████████████████████████████████████████████████████████████████████████████████████████████████████████████████████████████████████████████████████████████████████████████████████████████████████████████████████████████| 159/159 [00:00<00:00, 889192.45it/s]\n",
      "[D 230115 22:45:31 pc:120] running dfs takes: 0.0035490989685058594\n",
      "[D 230115 22:45:31 pc:122] sample space size: 286\n",
      "[D 230115 22:45:31 PRETTI_invertedIndex:11] building inverted index...\n"
     ]
    },
    {
     "name": "stdout",
     "output_type": "stream",
     "text": [
      "elapsed in dfs_v2_aux: 0.003492116928100586\n"
     ]
    },
    {
     "name": "stderr",
     "output_type": "stream",
     "text": [
      "[D 230115 22:45:34 PRETTI_invertedIndex:7] done\n",
      "[I 230115 22:45:34 assignment:72] sample assignment done\n",
      "100%|█████████████████████████████████████████████████████████████████████████████████████████████████████████████████████████████████████████████████████████████████████████████████████████████████████████████████████████████████████████| 50/50 [00:36<00:00,  1.38it/s]\n"
     ]
    },
    {
     "name": "stdout",
     "output_type": "stream",
     "text": [
      "experimenting with dataset enron\n"
     ]
    },
    {
     "name": "stderr",
     "output_type": "stream",
     "text": [
      "[D 230115 22:46:26 pc:129] confidence graph construction: done\n",
      "[D 230115 22:46:33 pc:131] converting to connectivity graph: done\n",
      "[D 230115 22:46:33 pc:106] prune edges from the graph: done\n",
      "[D 230115 22:46:33 pc:107] number of nodes: 1001\n",
      "[D 230115 22:46:33 pc:108] number of edges change: 499511 -> 3071\n",
      "100%|██████████████████████████████████████████████████████████████████████████████████████████████████████████████████████████████████████████████████████████████████████████████████████████████████████████████████████████████████| 1001/1001 [00:00<00:00, 86381.74it/s]\n",
      "[D 230115 22:46:34 pc:120] running dfs takes: 0.031392812728881836\n",
      "[D 230115 22:46:34 pc:122] sample space size: 5152\n",
      "[D 230115 22:46:34 PRETTI_invertedIndex:11] building inverted index...\n"
     ]
    },
    {
     "name": "stdout",
     "output_type": "stream",
     "text": [
      "elapsed in dfs_v2_aux: 0.03119492530822754\n"
     ]
    },
    {
     "name": "stderr",
     "output_type": "stream",
     "text": [
      "[D 230115 22:46:35 PRETTI_invertedIndex:7] done\n",
      "[I 230115 22:46:35 assignment:72] sample assignment done\n",
      "[D 230115 22:46:35 pc:129] confidence graph construction: done\n",
      "[D 230115 22:46:35 pc:131] converting to connectivity graph: done\n",
      "[D 230115 22:46:35 pc:106] prune edges from the graph: done\n",
      "[D 230115 22:46:35 pc:107] number of nodes: 53\n",
      "[D 230115 22:46:35 pc:108] number of edges change: 576 -> 111\n",
      "100%|█████████████████████████████████████████████████████████████████████████████████████████████████████████████████████████████████████████████████████████████████████████████████████████████████████████████████████████████████████| 53/53 [00:00<00:00, 131849.41it/s]\n",
      "[D 230115 22:46:35 pc:120] running dfs takes: 0.004446268081665039\n",
      "[D 230115 22:46:35 pc:122] sample space size: 182\n",
      "[D 230115 22:46:35 PRETTI_invertedIndex:11] building inverted index...\n",
      "[D 230115 22:46:35 PRETTI_invertedIndex:7] done\n",
      "[I 230115 22:46:35 assignment:72] sample assignment done\n"
     ]
    },
    {
     "name": "stdout",
     "output_type": "stream",
     "text": [
      "elapsed in dfs_v2_aux: 0.004354000091552734\n"
     ]
    },
    {
     "name": "stderr",
     "output_type": "stream",
     "text": [
      " 42%|█████████████████████████████████████████████████████████████████████████████████████████████████▊                                                                                                                                       | 21/50 [00:19<00:24,  1.20it/s][W 230115 22:46:55 boley_cftp:115] W_C is close to 0. Possibly encountering overflow. \n",
      "     |D^+ / D^-|=0 and |D^+ \\cap D^-|=0\n",
      "[W 230115 22:46:55 boley_cftp:115] W_C is close to 0. Possibly encountering overflow. \n",
      "     |D^+ / D^-|=0 and |D^+ \\cap D^-|=0\n",
      "/Users/hanxiao1/code/corset/notebooks/../corset/samplers/boley_cftp.py:122: RuntimeWarning: overflow encountered in double_scalars\n",
      "  ratio = (W_C * W_D_bar) / (W_C_bar * W_D)\n",
      " 70%|███████████████████████████████████████████████████████████████████████████████████████████████████████████████████████████████████████████████████████████████████                                                                      | 35/50 [00:30<00:10,  1.45it/s][W 230115 22:47:06 boley_cftp:115] W_C is close to 0. Possibly encountering overflow. \n",
      "     |D^+ / D^-|=0 and |D^+ \\cap D^-|=0\n",
      "[W 230115 22:47:06 boley_cftp:115] W_C is close to 0. Possibly encountering overflow. \n",
      "     |D^+ / D^-|=0 and |D^+ \\cap D^-|=0\n",
      "100%|█████████████████████████████████████████████████████████████████████████████████████████████████████████████████████████████████████████████████████████████████████████████████████████████████████████████████████████████████████████| 50/50 [00:37<00:00,  1.35it/s]\n"
     ]
    },
    {
     "name": "stdout",
     "output_type": "stream",
     "text": [
      "experimenting with dataset medical\n"
     ]
    },
    {
     "name": "stderr",
     "output_type": "stream",
     "text": [
      "[D 230115 22:47:15 pc:129] confidence graph construction: done\n",
      "[D 230115 22:47:16 pc:131] converting to connectivity graph: done\n",
      "[D 230115 22:47:17 pc:106] prune edges from the graph: done\n",
      "[D 230115 22:47:17 pc:107] number of nodes: 1909\n",
      "[D 230115 22:47:17 pc:108] number of edges change: 81935 -> 18629\n",
      "100%|███████████████████████████████████████████████████████████████████████████████████████████████████████████████████████████████████████████████████████████████████████████████████████████████████████████████████████████████████| 1909/1909 [00:00<00:00, 6058.95it/s]\n",
      "[D 230115 22:47:17 pc:120] running dfs takes: 0.38764214515686035\n"
     ]
    },
    {
     "name": "stdout",
     "output_type": "stream",
     "text": [
      "elapsed in dfs_v2_aux: 0.38333606719970703\n"
     ]
    },
    {
     "name": "stderr",
     "output_type": "stream",
     "text": [
      "[D 230115 22:47:17 pc:122] sample space size: 297683\n",
      "[D 230115 22:47:17 PRETTI_invertedIndex:11] building inverted index...\n",
      "[D 230115 22:47:21 PRETTI_invertedIndex:7] done\n",
      "[I 230115 22:47:44 assignment:72] sample assignment done\n",
      "[D 230115 22:47:44 pc:129] confidence graph construction: done\n",
      "[D 230115 22:47:44 pc:131] converting to connectivity graph: done\n",
      "[D 230115 22:47:44 pc:106] prune edges from the graph: done\n",
      "[D 230115 22:47:44 pc:107] number of nodes: 45\n",
      "[D 230115 22:47:44 pc:108] number of edges change: 63 -> 23\n",
      "100%|█████████████████████████████████████████████████████████████████████████████████████████████████████████████████████████████████████████████████████████████████████████████████████████████████████████████████████████████████████| 45/45 [00:00<00:00, 262144.00it/s]\n",
      "[D 230115 22:47:44 pc:120] running dfs takes: 0.003101348876953125\n",
      "[D 230115 22:47:44 pc:122] sample space size: 69\n",
      "[D 230115 22:47:44 PRETTI_invertedIndex:11] building inverted index...\n",
      "[D 230115 22:47:44 PRETTI_invertedIndex:7] done\n",
      "[I 230115 22:47:44 assignment:72] sample assignment done\n"
     ]
    },
    {
     "name": "stdout",
     "output_type": "stream",
     "text": [
      "elapsed in dfs_v2_aux: 0.0030050277709960938\n"
     ]
    },
    {
     "name": "stderr",
     "output_type": "stream",
     "text": [
      " 88%|█████████████████████████████████████████████████████████████████████████████████████████████████████████████████████████████████████████████████████████████████████████████████████████████████████████████                            | 44/50 [00:09<00:00,  6.52it/s][W 230115 22:47:54 boley_cftp:115] W_C is close to 0. Possibly encountering overflow. \n",
      "     |D^+ / D^-|=0 and |D^+ \\cap D^-|=32\n",
      "[W 230115 22:47:54 boley_cftp:115] W_C is close to 0. Possibly encountering overflow. \n",
      "     |D^+ / D^-|=0 and |D^+ \\cap D^-|=32\n",
      "100%|█████████████████████████████████████████████████████████████████████████████████████████████████████████████████████████████████████████████████████████████████████████████████████████████████████████████████████████████████████████| 50/50 [00:10<00:00,  4.87it/s]\n"
     ]
    },
    {
     "name": "stdout",
     "output_type": "stream",
     "text": [
      "experimenting with dataset birds\n"
     ]
    },
    {
     "name": "stderr",
     "output_type": "stream",
     "text": [
      "[D 230115 22:47:55 pc:129] confidence graph construction: done\n",
      "[D 230115 22:47:56 pc:131] converting to connectivity graph: done\n",
      "[D 230115 22:47:56 pc:106] prune edges from the graph: done\n",
      "[D 230115 22:47:56 pc:107] number of nodes: 271\n",
      "[D 230115 22:47:56 pc:108] number of edges change: 24485 -> 1473\n",
      "100%|█████████████████████████████████████████████████████████████████████████████████████████████████████████████████████████████████████████████████████████████████████████████████████████████████████████████████████████████████████| 271/271 [00:00<00:00, 5087.67it/s]\n",
      "[D 230115 22:47:56 pc:120] running dfs takes: 0.06147480010986328\n",
      "[D 230115 22:47:56 pc:122] sample space size: 15298\n",
      "[D 230115 22:47:56 PRETTI_invertedIndex:11] building inverted index...\n",
      "[D 230115 22:47:56 PRETTI_invertedIndex:7] done\n"
     ]
    },
    {
     "name": "stdout",
     "output_type": "stream",
     "text": [
      "elapsed in dfs_v2_aux: 0.06130409240722656\n"
     ]
    },
    {
     "name": "stderr",
     "output_type": "stream",
     "text": [
      "[I 230115 22:47:56 assignment:72] sample assignment done\n",
      "[D 230115 22:47:56 pc:129] confidence graph construction: done\n",
      "[D 230115 22:47:56 pc:131] converting to connectivity graph: done\n",
      "[D 230115 22:47:56 pc:106] prune edges from the graph: done\n",
      "[D 230115 22:47:56 pc:107] number of nodes: 19\n",
      "[D 230115 22:47:56 pc:108] number of edges change: 85 -> 9\n",
      "100%|█████████████████████████████████████████████████████████████████████████████████████████████████████████████████████████████████████████████████████████████████████████████████████████████████████████████████████████████████████| 19/19 [00:00<00:00, 179082.64it/s]\n",
      "[D 230115 22:47:56 pc:120] running dfs takes: 0.002843141555786133\n",
      "[D 230115 22:47:56 pc:122] sample space size: 28\n",
      "[D 230115 22:47:56 PRETTI_invertedIndex:11] building inverted index...\n",
      "[D 230115 22:47:56 PRETTI_invertedIndex:7] done\n",
      "[I 230115 22:47:56 assignment:72] sample assignment done\n"
     ]
    },
    {
     "name": "stdout",
     "output_type": "stream",
     "text": [
      "elapsed in dfs_v2_aux: 0.0028018951416015625\n"
     ]
    },
    {
     "name": "stderr",
     "output_type": "stream",
     "text": [
      "100%|█████████████████████████████████████████████████████████████████████████████████████████████████████████████████████████████████████████████████████████████████████████████████████████████████████████████████████████████████████████| 28/28 [00:04<00:00,  5.86it/s]\n",
      "[D 230115 22:48:01 pc:129] confidence graph construction: done\n",
      "[D 230115 22:48:01 pc:131] converting to connectivity graph: done\n",
      "[D 230115 22:48:01 pc:106] prune edges from the graph: done\n",
      "[D 230115 22:48:01 pc:107] number of nodes: 72\n",
      "[D 230115 22:48:01 pc:108] number of edges change: 2286 -> 319\n"
     ]
    },
    {
     "name": "stdout",
     "output_type": "stream",
     "text": [
      "experimenting with dataset emotions\n"
     ]
    },
    {
     "name": "stderr",
     "output_type": "stream",
     "text": [
      "100%|██████████████████████████████████████████████████████████████████████████████████████████████████████████████████████████████████████████████████████████████████████████████████████████████████████████████████████████████████████| 72/72 [00:00<00:00, 72419.64it/s]\n",
      "[D 230115 22:48:01 pc:120] running dfs takes: 0.005440950393676758\n",
      "[D 230115 22:48:01 pc:122] sample space size: 497\n",
      "[D 230115 22:48:01 PRETTI_invertedIndex:11] building inverted index...\n",
      "[D 230115 22:48:01 PRETTI_invertedIndex:7] done\n"
     ]
    },
    {
     "name": "stdout",
     "output_type": "stream",
     "text": [
      "elapsed in dfs_v2_aux: 0.005377769470214844\n"
     ]
    },
    {
     "name": "stderr",
     "output_type": "stream",
     "text": [
      "[I 230115 22:48:01 assignment:72] sample assignment done\n",
      "[D 230115 22:48:01 pc:129] confidence graph construction: done\n",
      "[D 230115 22:48:01 pc:131] converting to connectivity graph: done\n",
      "[D 230115 22:48:01 pc:106] prune edges from the graph: done\n",
      "[D 230115 22:48:01 pc:107] number of nodes: 6\n",
      "[D 230115 22:48:01 pc:108] number of edges change: 14 -> 6\n",
      "100%|████████████████████████████████████████████████████████████████████████████████████████████████████████████████████████████████████████████████████████████████████████████████████████████████████████████████████████████████████████| 6/6 [00:00<00:00, 67468.70it/s]\n",
      "[D 230115 22:48:01 pc:120] running dfs takes: 0.002878904342651367\n",
      "[D 230115 22:48:01 pc:122] sample space size: 13\n",
      "[D 230115 22:48:01 PRETTI_invertedIndex:11] building inverted index...\n",
      "[D 230115 22:48:01 PRETTI_invertedIndex:7] done\n",
      "[I 230115 22:48:01 assignment:72] sample assignment done\n"
     ]
    },
    {
     "name": "stdout",
     "output_type": "stream",
     "text": [
      "elapsed in dfs_v2_aux: 0.0028238296508789062\n"
     ]
    },
    {
     "name": "stderr",
     "output_type": "stream",
     "text": [
      "100%|█████████████████████████████████████████████████████████████████████████████████████████████████████████████████████████████████████████████████████████████████████████████████████████████████████████████████████████████████████████| 13/13 [00:01<00:00,  8.78it/s]\n"
     ]
    }
   ],
   "source": [
    "exp_configs = [\n",
    "    ('mediamill', 0.8),    \n",
    "    ('Yelp', 0.8),\n",
    "    ('corel5k', .8),        \n",
    "    ('CAL500', 0.8),\n",
    "    ('bibtex', 0.95),\n",
    "    ('enron', 1.0),\n",
    "    ('medical', .95),\n",
    "    ('birds', 0.95),\n",
    "    ('emotions', 0.5),\n",
    "]\n",
    "df_list = []\n",
    "for dataset_name, min_proba in exp_configs:\n",
    "    print(f'experimenting with dataset {dataset_name}')\n",
    "    df = run_experiment_for_dataset(dataset_name, min_proba)\n",
    "    df_list.append(df)\n"
   ]
  },
  {
   "cell_type": "code",
   "execution_count": 10,
   "id": "19b298f8",
   "metadata": {},
   "outputs": [],
   "source": [
    "df = pd.concat(df_list, ignore_index=True)"
   ]
  },
  {
   "cell_type": "markdown",
   "id": "dd46e7c3",
   "metadata": {},
   "source": [
    "# relative performance difference (use this one)"
   ]
  },
  {
   "cell_type": "code",
   "execution_count": 11,
   "id": "917cf71d",
   "metadata": {},
   "outputs": [
    {
     "data": {
      "image/png": "[encoded data removed]",
      "text/plain": [
       "<Figure size 720x360 with 2 Axes>"
      ]
     },
     "metadata": {},
     "output_type": "display_data"
    }
   ],
   "source": [
    "def get_relative_difference_by_feild(df_, field_name):\n",
    "    boley_score = df_[df_['sampler'] == 'boley'][field_name].iloc[0]\n",
    "    ours_score = df_[df_['sampler'] == 'ours'][field_name].iloc[0]\n",
    "    \n",
    "    return (ours_score - boley_score) / ours_score\n",
    "\n",
    "def get_scaled_relative_difference_by_feild(df_, field_name):\n",
    "    \"\"\"apply to log1p transformation to the relative difference\"\"\"\n",
    "    boley_score = df_[df_['sampler'] == 'boley'][field_name].iloc[0]\n",
    "    ours_score = df_[df_['sampler'] == 'ours'][field_name].iloc[0]\n",
    "    \n",
    "    diff_abs = np.abs(ours_score - boley_score)\n",
    "    diff_sign = np.sign(ours_score - boley_score)\n",
    "    \n",
    "    return diff_sign * np.log1p(diff_abs / boley_score) \n",
    "\n",
    "\n",
    "\n",
    "rel_diff_dfs = []\n",
    "fields = ('KL_times_coverage', 'f1')\n",
    "for field in fields:\n",
    "    s = df.groupby(['dataset', 'tail', 'sampler'])[field].agg('max')    \n",
    "    rel_diff_by_field = s.reset_index().groupby(['dataset', 'tail']).apply(\n",
    "        lambda df_:  get_scaled_relative_difference_by_feild(df_, field)\n",
    "    )\n",
    "    rel_diff_dfs.append(rel_diff_by_field.to_frame(name='value').assign(metric=field).reset_index())\n",
    "    \n",
    "\n",
    "rel_diff_df = pd.concat(rel_diff_dfs, ignore_index=True)\n",
    "\n",
    "# rename the metric name\n",
    "sampler_name_mapping = {'KL_times_coverage': r\"$\\log(\\Delta_q)$\",\n",
    "                        'f1': r'$\\log(\\Delta_{F1})$'}\n",
    "rel_diff_df = rel_diff_df.assign(**{\n",
    "    'metric-renamed': rel_diff_df['metric'].apply(lambda v: sampler_name_mapping[v])\n",
    "})\n",
    "\n",
    "# we use the ordering of datasets presented in the paper\n",
    "order = ['mediamill', 'Yelp', 'corel5k', 'bibtex', 'enron', 'medical', 'birds', 'emotions', 'CAL500']\n",
    "plot = sns.catplot(\n",
    "    data=rel_diff_df, x='value', y='dataset', kind='boxen', col='metric-renamed', sharex=False,\n",
    "    order=order\n",
    ")\n",
    "\n",
    "fig = plot.figure\n",
    "for ax in fig.axes:\n",
    "    title = ax.title.get_text()\n",
    "    ax.set_title('')\n",
    "    xlabel = title.split('=')[1].strip()\n",
    "    ax.set_xlabel(xlabel)\n",
    "\n",
    "    ax.vlines(0, -.5, 8.5, colors='r', linestyles='dashed')\n",
    "fig.axes[0].set_ylabel('')\n",
    "\n",
    "# fig.axes[0].set_title(r'$\\Delta_q(ours; Boley\\'s)$')\n",
    "plot.figure.savefig('../plots/head-sampler-comparison-rel-diff.pdf')\n"
   ]
  }
 ],
 "metadata": {
  "kernelspec": {
   "display_name": "Python 3 (ipykernel)",
   "language": "python",
   "name": "python3"
  },
  "language_info": {
   "codemirror_mode": {
    "name": "ipython",
    "version": 3
   },
   "file_extension": ".py",
   "mimetype": "text/x-python",
   "name": "python",
   "nbconvert_exporter": "python",
   "pygments_lexer": "ipython3",
   "version": "3.8.16"
  }
 },
 "nbformat": 4,
 "nbformat_minor": 5
}
