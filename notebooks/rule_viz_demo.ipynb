{
 "cells": [
  {
   "cell_type": "code",
   "execution_count": 1,
   "id": "0e1e2666",
   "metadata": {},
   "outputs": [],
   "source": [
    "%load_ext autoreload\n",
    "%autoreload 2\n",
    "import sys\n",
    "sys.path.insert(0, '../')"
   ]
  },
  {
   "cell_type": "code",
   "execution_count": 3,
   "id": "fe21d2af",
   "metadata": {},
   "outputs": [],
   "source": [
    "\n",
    "import matplotlib.transforms as mtransforms\n",
    "\n",
    "import numpy as np\n",
    "from biclus_viz import PlotCreator\n",
    "from corset.rule import Rule\n",
    "from corset.data import Dataset\n",
    "\n",
    "from matplotlib import pyplot as plt\n",
    "from corset.utils import makedir"
   ]
  },
  {
   "cell_type": "code",
   "execution_count": 6,
   "id": "865691be",
   "metadata": {},
   "outputs": [],
   "source": [
    "from viz_utils import set_mpl_style\n",
    "    \n",
    "set_mpl_style()    "
   ]
  },
  {
   "cell_type": "code",
   "execution_count": 7,
   "id": "093b43c9",
   "metadata": {},
   "outputs": [],
   "source": [
    "ds_name = 'bibtex'"
   ]
  },
  {
   "cell_type": "code",
   "execution_count": 9,
   "id": "dc142a79",
   "metadata": {},
   "outputs": [],
   "source": [
    "ds = Dataset(name=ds_name, datadir='../data')\n",
    "ds.load()"
   ]
  },
  {
   "cell_type": "code",
   "execution_count": 10,
   "id": "381aed5b",
   "metadata": {},
   "outputs": [],
   "source": [
    "X_csc, Y_csc = ds.trn_X.tocsc(), ds.trn_Y.tocsc()"
   ]
  },
  {
   "cell_type": "code",
   "execution_count": 11,
   "id": "40121ea4",
   "metadata": {},
   "outputs": [],
   "source": [
    "rules_raw = [\n",
    "#     (('identification', 'communities'), ('TAG_network', 'TAG_community')), \n",
    "#     (('identification', 'communities'), ('TAG_socialnets', )),\n",
    "#     (('identification', 'communities'), ('TAG_sna', )),\n",
    "    (('identification', 'communities'), ('TAG_network', 'TAG_community', 'TAG_socialnets', 'TAG_sna')),     \n",
    "    (('region', 'genome'), ('TAG_data', 'TAG_analysis')),\n",
    "    (('connected', 'simultaneously'), ('TAG_topic11', 'TAG_network')),\n",
    "    (('network', 'situations'), ('TAG_network', )),\n",
    "    (('argued', 'social'), ('TAG_social', )),\n",
    "    (('modeled', 'latent'), ('TAG_socialnets', )),\n",
    "]\n",
    "rules = []\n",
    "for head_raw, tail_raw in rules_raw:\n",
    "    head = tuple(ds.feature2id[feature_name] for feature_name in head_raw)\n",
    "    tail = tuple(ds.label2id[label_name] for label_name in tail_raw)\n",
    "    rule = Rule(head, tail)\n",
    "    rule.bind_dataset(X_csc, Y_csc)\n",
    "    rules.append(rule)"
   ]
  },
  {
   "cell_type": "code",
   "execution_count": 12,
   "id": "612c5205",
   "metadata": {},
   "outputs": [
    {
     "name": "stdout",
     "output_type": "stream",
     "text": [
      "Rule(|H|=2, |L|=4, |supp|=3, area=12, p=1.00, q=0.00)\n",
      "Rule(|H|=2, |L|=2, |supp|=3, area=6, p=1.00, q=0.00)\n",
      "Rule(|H|=2, |L|=2, |supp|=2, area=4, p=1.00, q=0.00)\n",
      "Rule(|H|=2, |L|=1, |supp|=5, area=5, p=0.83, q=0.02)\n",
      "Rule(|H|=2, |L|=1, |supp|=5, area=5, p=0.83, q=0.03)\n",
      "Rule(|H|=2, |L|=1, |supp|=3, area=3, p=1.00, q=0.01)\n"
     ]
    }
   ],
   "source": [
    "for r in rules:\n",
    "    print(r.summary())"
   ]
  },
  {
   "cell_type": "code",
   "execution_count": 13,
   "id": "2e8090d9",
   "metadata": {},
   "outputs": [],
   "source": [
    "row_clusters = [list(r.support) for r in rules]\n",
    "L_col_clusters = [list(r.tail) for r in rules]\n",
    "F_col_clusters = [list(r.head) for r in rules]"
   ]
  },
  {
   "cell_type": "code",
   "execution_count": 14,
   "id": "c3eeb1e9",
   "metadata": {},
   "outputs": [],
   "source": [
    "def adjust_clusters(clusters):\n",
    "    covered_idx = set()\n",
    "    for idx in clusters:\n",
    "        covered_idx |= set(idx)\n",
    "    covered_idx = list(sorted(covered_idx))\n",
    "    \n",
    "    id_old2new = {old_id: new_id for new_id, old_id in enumerate(covered_idx)}\n",
    "    id_new2old = {new_id: old_id for new_id, old_id in enumerate(covered_idx)}\n",
    "    \n",
    "    adjusted_clusters = []\n",
    "    for clus in clusters:\n",
    "        adjusted_clus = []\n",
    "        for old_id in clus:\n",
    "            adjusted_clus.append(id_old2new[old_id])\n",
    "        adjusted_clusters.append(adjusted_clus)\n",
    "\n",
    "    return covered_idx, adjusted_clusters, id_old2new, id_new2old"
   ]
  },
  {
   "cell_type": "code",
   "execution_count": 15,
   "id": "1f084de2",
   "metadata": {},
   "outputs": [],
   "source": [
    "# extract sub submatrices whose rows and cols are covered by the rules\n",
    "L = ds.trn_Y.todense()\n",
    "F = ds.trn_X.todense()\n",
    "\n",
    "covered_rows, row_clusters_adjusted, _, _ = adjust_clusters(row_clusters)\n",
    "covered_cols_L, col_clusters_L_adjusted, _, label_id_mapping = adjust_clusters(L_col_clusters)\n",
    "covered_cols_F, col_clusters_F_adjusted, _, feature_id_mapping = adjust_clusters(F_col_clusters)\n",
    "L_sub = L[covered_rows][:, covered_cols_L]\n",
    "F_sub = F[covered_rows][:, covered_cols_F]\n"
   ]
  },
  {
   "cell_type": "markdown",
   "id": "dd858b42",
   "metadata": {},
   "source": [
    "# visualizing the label matrix"
   ]
  },
  {
   "cell_type": "code",
   "execution_count": 16,
   "id": "fa3b4a09",
   "metadata": {},
   "outputs": [],
   "source": [
    "def prettify_fig(fig, ax):\n",
    "#     fig.tight_layout()\n",
    "\n",
    "    ax.set_xticklabels([])\n",
    "    ax.set_yticklabels([])\n",
    "    ax.tick_params(\n",
    "        axis=\"both\",\n",
    "        which=\"both\",\n",
    "        bottom=False,\n",
    "        top=False,\n",
    "        labelbottom=False,\n",
    "        right=False,\n",
    "        left=False,\n",
    "        labelleft=False,\n",
    "    )\n",
    "    plt.setp(ax.spines.values(), color='#aaa')  # change frame color    "
   ]
  },
  {
   "cell_type": "code",
   "execution_count": 17,
   "id": "e50c8c2c",
   "metadata": {},
   "outputs": [
    {
     "data": {
      "image/png": "[encoded data removed]",
      "text/plain": [
       "<Figure size 360x720 with 1 Axes>"
      ]
     },
     "metadata": {},
     "output_type": "display_data"
    }
   ],
   "source": [
    "ordered_L_fig_path = \"../plots/bicluster-viz/ordered-L.pdf\"\n",
    "bbm_L = PlotCreator.BlockBlockMatrix(row_clusters_adjusted, col_clusters_L_adjusted, L_sub)\n",
    "bbm_L.order()\n",
    "fig, ax = plt.subplots(1, 1, figsize=(5, 10))\n",
    "bbm_L.plotMatrix(axs=ax, aspect=0.8, alpha=0.8)\n",
    "\n",
    "prettify_fig(fig, ax)\n",
    "\n",
    "ax.set_yticks(np.arange(F_sub.shape[0])-.51, va='top')\n",
    "\n",
    "# map back to the correct label names (a bit involved though)\n",
    "label_perm = bbm_L.getRightPermutation()\n",
    "label_subset = [ds.label_names[label_id_mapping[label_perm[new_id]]] for new_id in range(len(label_id_mapping))]\n",
    "\n",
    "ax.set_xticks(\n",
    "    np.arange(len(label_subset)) - .5,\n",
    "    # labels=list(map(lambda s: s[4:], label_subset)),  # remove \"TAG_\"\n",
    "    labels=label_subset,\n",
    "    rotation=40, ha='left')\n",
    "ax.grid(which='major', c='#ccc')\n",
    "\n",
    "fig.savefig(ordered_L_fig_path)\n",
    "\n"
   ]
  },
  {
   "cell_type": "markdown",
   "id": "e2c6bf91",
   "metadata": {},
   "source": [
    "# visualizing the feature matrix"
   ]
  },
  {
   "cell_type": "code",
   "execution_count": 18,
   "id": "f201926b",
   "metadata": {},
   "outputs": [
    {
     "data": {
      "image/png": "[encoded data removed]",
      "text/plain": [
       "<Figure size 504x720 with 1 Axes>"
      ]
     },
     "metadata": {},
     "output_type": "display_data"
    }
   ],
   "source": [
    "ordered_F_fig_path = \"../plots/bicluster-viz/ordered-F.pdf\"\n",
    "bbm_F = PlotCreator.BlockBlockMatrix(row_clusters_adjusted, col_clusters_F_adjusted, F_sub)\n",
    "bbm_F.order()\n",
    "bbm_F.leftBlocksPermutation = bbm_L.leftBlocksPermutation  # bbm_F the row permutation inherits from bbm_L\n",
    "\n",
    "\n",
    "\n",
    "fig, ax = plt.subplots(1, 1, figsize=(7, 10))\n",
    "bbm_F.plotMatrix(axs=ax, aspect=0.8, alpha=.8)\n",
    "prettify_fig(fig, ax)\n",
    "\n",
    "# map back to the correct label names (a bit involved though)\n",
    "feature_perm = bbm_F.getRightPermutation()\n",
    "feature_subset = [ds.feature_names[feature_id_mapping[feature_perm[new_id]]] for new_id in range(len(feature_id_mapping))]\n",
    "\n",
    "\n",
    "ax.set_yticks(np.arange(F_sub.shape[0])-.51, va='top')\n",
    "ax.set_xticks(\n",
    "    np.arange(len(feature_subset))-0.5,\n",
    "    labels=feature_subset,\n",
    "    rotation=45, ha='left')\n",
    "\n",
    "ax.grid(which='major', c='#ccc')\n",
    "fig.savefig(ordered_F_fig_path)\n",
    "\n",
    "\n"
   ]
  },
  {
   "cell_type": "code",
   "execution_count": 19,
   "id": "8d188196",
   "metadata": {},
   "outputs": [
    {
     "name": "stdout",
     "output_type": "stream",
     "text": [
      "PDFCROP 1.40, 2020/06/06 - Copyright (c) 2002-2020 by Heiko Oberdiek, Oberdiek Package Support Group.\n",
      "==> 1 page written on `../plots/bicluster-viz/ordered-L.pdf'.\n",
      "PDFCROP 1.40, 2020/06/06 - Copyright (c) 2002-2020 by Heiko Oberdiek, Oberdiek Package Support Group.\n",
      "==> 1 page written on `../plots/bicluster-viz/ordered-F.pdf'.\n"
     ]
    }
   ],
   "source": [
    "!pdfcrop ../plots/bicluster-viz/ordered-L.pdf ../plots/bicluster-viz/ordered-L.pdf\n",
    "!pdfcrop ../plots/bicluster-viz/ordered-F.pdf ../plots/bicluster-viz/ordered-F.pdf"
   ]
  }
 ],
 "metadata": {
  "kernelspec": {
   "display_name": "Python 3 (ipykernel)",
   "language": "python",
   "name": "python3"
  },
  "language_info": {
   "codemirror_mode": {
    "name": "ipython",
    "version": 3
   },
   "file_extension": ".py",
   "mimetype": "text/x-python",
   "name": "python",
   "nbconvert_exporter": "python",
   "pygments_lexer": "ipython3",
   "version": "3.8.16"
  }
 },
 "nbformat": 4,
 "nbformat_minor": 5
}
