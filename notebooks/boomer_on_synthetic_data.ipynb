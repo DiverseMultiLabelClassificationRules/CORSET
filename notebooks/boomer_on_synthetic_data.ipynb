{
 "cells": [
  {
   "cell_type": "code",
   "execution_count": 20,
   "id": "31f41af3",
   "metadata": {
    "collapsed": false
   },
   "outputs": [],
   "source": [
    "import json\n",
    "import numpy as np\n",
    "\n",
    "from mlrl.boosting import Boomer\n",
    "from mlrl.testbed import data\n",
    "\n",
    "from src.evaluation import Evaluator\n",
    "from src.utils import pjoin, makedir, load_pickle, load_synthetic_data"
   ]
  },
  {
   "cell_type": "code",
   "execution_count": 6,
   "id": "faf8a8f8",
   "metadata": {
    "collapsed": false
   },
   "outputs": [],
   "source": [
    "syn_ds_names = ['1500_15_15_15', '250_5_5_5', '2000_20_20_20', '3000_30_30_30', '2500_25_25_25', '500_10_10_10']"
   ]
  },
  {
   "cell_type": "code",
   "execution_count": 35,
   "id": "07a08571",
   "metadata": {
    "collapsed": false
   },
   "outputs": [],
   "source": [
    "output_dir = 'outputs/boomer'\n",
    "\n",
    "ds_name = '1500_15_15_15'"
   ]
  },
  {
   "cell_type": "code",
   "execution_count": 13,
   "id": "855cabe1",
   "metadata": {
    "collapsed": false
   },
   "outputs": [],
   "source": []
  },
  {
   "cell_type": "code",
   "execution_count": 33,
   "id": "9e9de153",
   "metadata": {
    "collapsed": false
   },
   "outputs": [],
   "source": [
    "# if use_synthetic_data:\n",
    "#     true_num_rules = get_true_number_of_rules(ds_name)\n",
    "#     trn_X, trn_Y, tst_X, tst_Y = load_synthetic_data(f'synthetic-datasets/{ds_name}')\n",
    "# else:\n",
    "#     trn_X, trn_Y, md = data.load_data_set_and_meta_data('./datasets', f'{ds_name}-train.arff', f'{ds_name}.xml')\n",
    "#     tst_X, tst_Y, md = data.load_data_set_and_meta_data('./datasets', f'{ds_name}-test.arff', f'{ds_name}.xml')"
   ]
  },
  {
   "cell_type": "code",
   "execution_count": 34,
   "id": "2825834c",
   "metadata": {
    "collapsed": false
   },
   "outputs": [],
   "source": [
    "def get_true_number_of_rules(ds_name):\n",
    "    return int(ds_name.split('_')[-1])\n",
    "\n",
    "def run_experiments_on_synthetic_data(ds_name):\n",
    "    true_num_rules = get_true_number_of_rules(ds_name)\n",
    "    trn_X, trn_Y, tst_X, tst_Y = load_synthetic_data(f'synthetic-datasets/{ds_name}')\n",
    "    \n",
    "    rule_numbers = true_num_rules * np.power(2, np.arange(4))\n",
    "    perf_list = []\n",
    "    for rule_num in rule_numbers:\n",
    "        clf = Boomer(max_rules=rule_num)\n",
    "        clf.fit(trn_X, trn_Y)\n",
    "        pred_Y = clf.predict(tst_X)\n",
    "\n",
    "        ev = Evaluator()\n",
    "        perf = ev.report(pred_Y, tst_Y)\n",
    "        perf['max_rules'] = int(rule_num)\n",
    "        perf['num_used_rules'] = clf.model_.get_num_used_rules()\n",
    "\n",
    "        perf_list.append(perf)\n",
    "    return perf_list"
   ]
  },
  {
   "cell_type": "code",
   "execution_count": 55,
   "id": "d56e8ef5",
   "metadata": {
    "collapsed": false
   },
   "outputs": [],
   "source": [
    "from mlrl.common.cython.model import RuleModelVisitor\n",
    "from mlrl.testbed.model_characteristics import RuleModelFormatter"
   ]
  },
  {
   "cell_type": "code",
   "execution_count": 57,
   "id": "ab5e167f",
   "metadata": {
    "collapsed": false
   },
   "outputs": [],
   "source": [
    "RuleModelFormatter?"
   ]
  },
  {
   "cell_type": "code",
   "execution_count": 51,
   "id": "682ea396",
   "metadata": {
    "collapsed": false
   },
   "outputs": [],
   "source": [
    "vis = RuleModelVisitor()\n",
    "clf.model_.visit(vis)"
   ]
  },
  {
   "cell_type": "code",
   "execution_count": 37,
   "id": "532f20d0",
   "metadata": {
    "collapsed": false
   },
   "outputs": [
    {
     "name": "stdout",
     "output_type": "stream",
     "text": [
      "experimenting on 1500_15_15_15\n",
      "experimenting on 250_5_5_5\n",
      "experimenting on 2000_20_20_20\n",
      "experimenting on 3000_30_30_30\n",
      "experimenting on 2500_25_25_25\n",
      "experimenting on 500_10_10_10\n"
     ]
    }
   ],
   "source": [
    "for ds_name in syn_ds_names:\n",
    "    print('experimenting on {}'.format(ds_name))\n",
    "    perf_list = run_experiments_on_synthetic_data(ds_name)\n",
    "\n",
    "    filename = pjoin(output_dir, ds_name + '.json')\n",
    "    makedir(filename)\n",
    "    with open(filename, 'w') as f:\n",
    "        f.write(json.dumps(perf_list, indent=4))"
   ]
  }
 ],
 "metadata": {
  "kernelspec": {
   "argv": [
    "python",
    "-m",
    "ipykernel_launcher",
    "-f",
    "{connection_file}"
   ],
   "display_name": "Python 3 (ipykernel)",
   "env": null,
   "interrupt_mode": "signal",
   "language": "python",
   "metadata": {
    "debugger": true
   },
   "name": "python3"
  },
  "language_info": {
   "codemirror_mode": {
    "name": "ipython",
    "version": 3
   },
   "file_extension": ".py",
   "mimetype": "text/x-python",
   "name": "python",
   "nbconvert_exporter": "python",
   "pygments_lexer": "ipython3",
   "version": "3.8.3"
  },
  "name": "boomer_test.ipynb"
 },
 "nbformat": 4,
 "nbformat_minor": 5
}
