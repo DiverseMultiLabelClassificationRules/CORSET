{
 "cells": [
  {
   "cell_type": "code",
   "execution_count": 2,
   "id": "b2d03746",
   "metadata": {},
   "outputs": [],
   "source": [
    "import sys\n",
    "sys.path.insert(0, '../')"
   ]
  },
  {
   "cell_type": "code",
   "execution_count": 3,
   "id": "cdc1a126",
   "metadata": {},
   "outputs": [],
   "source": [
    "from corset.data import Dataset\n",
    "from corset.greedy import GreedyCFTPDivMax\n",
    "from corset.evaluation import Evaluator"
   ]
  },
  {
   "cell_type": "code",
   "execution_count": 5,
   "id": "90e5a177",
   "metadata": {},
   "outputs": [],
   "source": [
    "ds = Dataset(name='medical', datadir=\"../data\", split_train=False)\n",
    "ds.load()"
   ]
  },
  {
   "cell_type": "code",
   "execution_count": 6,
   "id": "4ab9bd87",
   "metadata": {},
   "outputs": [],
   "source": [
    "clf = GreedyCFTPDivMax(\n",
    "    min_feature_proba=.8,\n",
    "    min_label_proba=.8,\n",
    "    n_tails_per_iter=100,\n",
    "    n_heads_per_tail=10,\n",
    "    lambd=10.0,\n",
    "    n_max_rules=30\n",
    ")"
   ]
  },
  {
   "cell_type": "code",
   "execution_count": 7,
   "id": "ba10468f",
   "metadata": {
    "scrolled": false
   },
   "outputs": [
    {
     "name": "stderr",
     "output_type": "stream",
     "text": [
      "[I 230127 18:55:52 diversity_maximization:104] running 1st round of fitting\n",
      "[D 230127 18:55:52 pc:129] confidence graph construction: done\n",
      "[D 230127 18:55:52 pc:131] converting to connectivity graph: done\n",
      "[D 230127 18:55:52 pc:106] prune edges from the graph: done\n",
      "[D 230127 18:55:52 pc:107] number of nodes: 45\n",
      "[D 230127 18:55:52 pc:108] number of edges change: 63 -> 14\n",
      "100%|██████████████████████████████████████████████████████████████████████████████████████████████████████████████████████████████████████████████████████████████████████████| 45/45 [00:00<00:00, 369361.41it/s]\n",
      "[D 230127 18:55:52 pc:120] running dfs takes: 0.015588760375976562\n",
      "[D 230127 18:55:52 pc:122] sample space size: 59\n",
      "[D 230127 18:55:52 PRETTI_invertedIndex:11] building inverted index...\n",
      "[D 230127 18:55:53 PRETTI_invertedIndex:7] done\n",
      "[I 230127 18:55:53 assignment:72] sample assignment done\n"
     ]
    },
    {
     "name": "stdout",
     "output_type": "stream",
     "text": [
      "elapsed in dfs_v2_aux: 0.01419377326965332\n"
     ]
    },
    {
     "name": "stderr",
     "output_type": "stream",
     "text": [
      "[D 230127 18:55:55 pc:129] confidence graph construction: done\n",
      "[D 230127 18:55:56 pc:131] converting to connectivity graph: done\n",
      "[D 230127 18:55:56 pc:106] prune edges from the graph: done\n",
      "[D 230127 18:55:56 pc:107] number of nodes: 1909\n",
      "[D 230127 18:55:56 pc:108] number of edges change: 81935 -> 19001\n",
      "100%|████████████████████████████████████████████████████████████████████████████████████████████████████████████████████████████████████████████████████████████████████████| 1909/1909 [00:00<00:00, 4340.12it/s]\n",
      "[D 230127 18:55:57 pc:120] running dfs takes: 0.5192210674285889\n"
     ]
    },
    {
     "name": "stdout",
     "output_type": "stream",
     "text": [
      "elapsed in dfs_v2_aux: 0.5137720108032227\n"
     ]
    },
    {
     "name": "stderr",
     "output_type": "stream",
     "text": [
      "[D 230127 18:55:58 pc:122] sample space size: 362452\n",
      "[D 230127 18:55:58 PRETTI_invertedIndex:11] building inverted index...\n",
      "[D 230127 18:56:02 PRETTI_invertedIndex:7] done\n",
      "[I 230127 18:56:29 assignment:72] sample assignment done\n",
      "[D 230127 18:56:30 diversity_maximization:124] choosing rule: Rule(|H|=1, |L|=1, |supp|=522, area=522, p=0.84, q=0.27) among 973 candidates\n",
      "[D 230127 18:56:30 diversity_maximization:127] marginal coverage: 522, KL: 0.7063831751902999\n",
      "[D 230127 18:56:31 diversity_maximization:124] choosing rule: Rule(|H|=1, |L|=1, |supp|=261, area=261, p=0.72, q=0.14) among 969 candidates\n",
      "[D 230127 18:56:31 diversity_maximization:127] marginal coverage: 261, KL: 0.8705007174760874\n",
      "[D 230127 18:56:32 diversity_maximization:124] choosing rule: Rule(|H|=1, |L|=1, |supp|=97, area=97, p=0.97, q=0.05) among 970 candidates\n",
      "[D 230127 18:56:32 diversity_maximization:127] marginal coverage: 97, KL: 2.7796204884340985\n",
      "[D 230127 18:56:33 diversity_maximization:124] choosing rule: Rule(|H|=1, |L|=1, |supp|=204, area=204, p=0.80, q=0.11) among 953 candidates\n",
      "[D 230127 18:56:33 diversity_maximization:127] marginal coverage: 204, KL: 1.3290406273274566\n",
      "[D 230127 18:56:34 diversity_maximization:124] choosing rule: Rule(|H|=1, |L|=1, |supp|=81, area=81, p=0.88, q=0.04) among 945 candidates\n",
      "[D 230127 18:56:34 diversity_maximization:127] marginal coverage: 81, KL: 2.3994075476354575\n",
      "[D 230127 18:56:36 diversity_maximization:124] choosing rule: Rule(|H|=1, |L|=1, |supp|=154, area=154, p=0.72, q=0.08) among 953 candidates\n",
      "[D 230127 18:56:36 diversity_maximization:127] marginal coverage: 154, KL: 1.2289586845658889\n",
      "[D 230127 18:56:37 diversity_maximization:124] choosing rule: Rule(|H|=1, |L|=1, |supp|=68, area=68, p=0.87, q=0.03) among 942 candidates\n",
      "[D 230127 18:56:37 diversity_maximization:127] marginal coverage: 68, KL: 2.549177778964501\n",
      "[D 230127 18:56:38 diversity_maximization:124] choosing rule: Rule(|H|=2, |L|=1, |supp|=132, area=132, p=0.81, q=0.12) among 946 candidates\n",
      "[D 230127 18:56:38 diversity_maximization:127] marginal coverage: 132, KL: 1.304738531751723\n",
      "[D 230127 18:56:39 diversity_maximization:124] choosing rule: Rule(|H|=1, |L|=1, |supp|=49, area=49, p=0.92, q=0.03) among 951 candidates\n",
      "[D 230127 18:56:39 diversity_maximization:127] marginal coverage: 49, KL: 2.839787968965652\n",
      "[D 230127 18:56:40 diversity_maximization:124] choosing rule: Rule(|H|=1, |L|=1, |supp|=29, area=29, p=1.00, q=0.02) among 940 candidates\n",
      "[D 230127 18:56:40 diversity_maximization:127] marginal coverage: 29, KL: 4.051273307986567\n",
      "[D 230127 18:56:42 diversity_maximization:124] choosing rule: Rule(|H|=1, |L|=1, |supp|=29, area=29, p=0.97, q=0.02) among 954 candidates\n",
      "[D 230127 18:56:42 diversity_maximization:127] marginal coverage: 29, KL: 3.8915928966132256\n",
      "[D 230127 18:56:44 diversity_maximization:124] choosing rule: Rule(|H|=1, |L|=1, |supp|=69, area=69, p=0.58, q=0.04) among 948 candidates\n",
      "[D 230127 18:56:44 diversity_maximization:127] marginal coverage: 69, KL: 1.2734430729139028\n",
      "[D 230127 18:56:45 diversity_maximization:124] choosing rule: Rule(|H|=1, |L|=1, |supp|=64, area=64, p=0.89, q=0.04) among 933 candidates\n",
      "[D 230127 18:56:45 diversity_maximization:127] marginal coverage: 64, KL: 2.4324237380022686\n",
      "[D 230127 18:56:47 diversity_maximization:124] choosing rule: Rule(|H|=2, |L|=1, |supp|=94, area=94, p=0.57, q=0.07) among 935 candidates\n",
      "[D 230127 18:56:47 diversity_maximization:127] marginal coverage: 94, KL: 0.8563605269032131\n",
      "[D 230127 18:56:49 diversity_maximization:124] choosing rule: Rule(|H|=1, |L|=1, |supp|=62, area=62, p=0.84, q=0.12) among 938 candidates\n",
      "[D 230127 18:56:49 diversity_maximization:127] marginal coverage: 61, KL: 1.3876147516333979\n",
      "[D 230127 18:56:51 diversity_maximization:124] choosing rule: Rule(|H|=1, |L|=1, |supp|=11, area=11, p=1.00, q=0.01) among 921 candidates\n",
      "[D 230127 18:56:51 diversity_maximization:127] marginal coverage: 11, KL: 4.4865913792444125\n",
      "[D 230127 18:56:53 diversity_maximization:124] choosing rule: Rule(|H|=1, |L|=1, |supp|=26, area=26, p=0.84, q=0.02) among 955 candidates\n",
      "[D 230127 18:56:53 diversity_maximization:127] marginal coverage: 26, KL: 2.7626655578432286\n",
      "[D 230127 18:56:54 diversity_maximization:124] choosing rule: Rule(|H|=2, |L|=2, |supp|=6, area=12, p=1.00, q=0.00) among 930 candidates\n",
      "[D 230127 18:56:54 diversity_maximization:127] marginal coverage: 6, KL: 5.785874363374673\n",
      "[D 230127 18:56:56 diversity_maximization:124] choosing rule: Rule(|H|=1, |L|=1, |supp|=9, area=9, p=1.00, q=0.02) among 944 candidates\n",
      "[D 230127 18:56:56 diversity_maximization:127] marginal coverage: 9, KL: 4.111897929803002\n",
      "[D 230127 18:56:57 diversity_maximization:124] choosing rule: Rule(|H|=2, |L|=1, |supp|=13, area=13, p=0.76, q=0.02) among 958 candidates\n",
      "[D 230127 18:56:57 diversity_maximization:127] marginal coverage: 13, KL: 2.6268392209475424\n",
      "[D 230127 18:56:59 diversity_maximization:124] choosing rule: Rule(|H|=1, |L|=1, |supp|=8, area=8, p=1.00, q=0.01) among 935 candidates\n",
      "[D 230127 18:56:59 diversity_maximization:127] marginal coverage: 8, KL: 4.4865913792444125\n",
      "[D 230127 18:57:01 diversity_maximization:124] choosing rule: Rule(|H|=1, |L|=1, |supp|=15, area=15, p=0.94, q=0.03) among 946 candidates\n",
      "[D 230127 18:57:01 diversity_maximization:127] marginal coverage: 12, KL: 2.9166653588440807\n",
      "[D 230127 18:57:03 diversity_maximization:124] choosing rule: Rule(|H|=2, |L|=1, |supp|=12, area=12, p=0.71, q=0.01) among 949 candidates\n",
      "[D 230127 18:57:03 diversity_maximization:127] marginal coverage: 12, KL: 2.745775248188685\n",
      "[D 230127 18:57:05 diversity_maximization:124] choosing rule: Rule(|H|=1, |L|=1, |supp|=20, area=20, p=0.42, q=0.01) among 951 candidates\n",
      "[D 230127 18:57:05 diversity_maximization:127] marginal coverage: 20, KL: 1.2359338082893163\n",
      "[D 230127 18:57:07 diversity_maximization:124] choosing rule: Rule(|H|=3, |L|=1, |supp|=4, area=4, p=1.00, q=0.00) among 955 candidates\n",
      "[D 230127 18:57:07 diversity_maximization:127] marginal coverage: 4, KL: 5.968195920168627\n",
      "[D 230127 18:57:09 diversity_maximization:124] choosing rule: Rule(|H|=2, |L|=1, |supp|=160, area=160, p=0.74, q=0.12) among 938 candidates\n",
      "[D 230127 18:57:09 diversity_maximization:127] marginal coverage: 27, KL: 1.07124536056767\n",
      "[D 230127 18:57:11 diversity_maximization:124] choosing rule: Rule(|H|=2, |L|=1, |supp|=5, area=5, p=0.83, q=0.00) among 948 candidates\n",
      "[D 230127 18:57:11 diversity_maximization:127] marginal coverage: 5, KL: 4.523362413456747\n",
      "[D 230127 18:57:13 diversity_maximization:124] choosing rule: Rule(|H|=1, |L|=1, |supp|=33, area=33, p=0.29, q=0.02) among 923 candidates\n",
      "[D 230127 18:57:13 diversity_maximization:127] marginal coverage: 33, KL: 0.5915782775029972\n",
      "[D 230127 18:57:15 diversity_maximization:124] choosing rule: Rule(|H|=2, |L|=2, |supp|=2, area=4, p=1.00, q=0.00) among 929 candidates\n",
      "[D 230127 18:57:15 diversity_maximization:127] marginal coverage: 3, KL: 6.884486652042782\n",
      "[D 230127 18:57:17 diversity_maximization:124] choosing rule: Rule(|H|=2, |L|=1, |supp|=6, area=6, p=0.67, q=0.00) among 941 candidates\n",
      "[D 230127 18:57:17 diversity_maximization:127] marginal coverage: 6, KL: 3.119164563146973\n",
      "[D 230127 18:57:19 diversity_maximization:124] choosing rule: Rule(|H|=1, |L|=1, |supp|=13, area=13, p=0.50, q=0.02) among 932 candidates\n",
      "[D 230127 18:57:19 diversity_maximization:127] marginal coverage: 13, KL: 1.3710579058778007\n",
      "[I 230127 18:57:19 diversity_maximization:48] collected enough rules 30, terminate\n",
      "[I 230127 18:57:19 diversity_maximization:139] 1st round done: 30 rules selected and coverage ratio 87.04%\n",
      "[I 230127 18:57:19 diversity_maximization:152] running 2nd round of fitting\n",
      "[D 230127 18:57:20 diversity_maximization:167] choosing rule: Rule(|H|=1, |L|=1, |supp|=522, area=522, p=0.84, q=0.27) among 20472 candidates\n",
      "[D 230127 18:57:20 diversity_maximization:170] marginal coverage: 522, KL: 0.7063831751902999\n",
      "[D 230127 18:57:23 diversity_maximization:167] choosing rule: Rule(|H|=1, |L|=1, |supp|=204, area=204, p=0.80, q=0.11) among 20472 candidates\n",
      "[D 230127 18:57:23 diversity_maximization:170] marginal coverage: 204, KL: 1.3290406273274566\n",
      "[D 230127 18:57:26 diversity_maximization:167] choosing rule: Rule(|H|=1, |L|=1, |supp|=97, area=97, p=0.97, q=0.05) among 20472 candidates\n"
     ]
    },
    {
     "name": "stderr",
     "output_type": "stream",
     "text": [
      "[D 230127 18:57:26 diversity_maximization:170] marginal coverage: 97, KL: 2.7796204884340985\n",
      "[D 230127 18:57:29 diversity_maximization:167] choosing rule: Rule(|H|=1, |L|=1, |supp|=261, area=261, p=0.72, q=0.14) among 20472 candidates\n",
      "[D 230127 18:57:29 diversity_maximization:170] marginal coverage: 261, KL: 0.8705007174760874\n",
      "[D 230127 18:57:33 diversity_maximization:167] choosing rule: Rule(|H|=1, |L|=1, |supp|=81, area=81, p=0.88, q=0.04) among 20472 candidates\n",
      "[D 230127 18:57:33 diversity_maximization:170] marginal coverage: 81, KL: 2.3994075476354575\n",
      "[D 230127 18:57:38 diversity_maximization:167] choosing rule: Rule(|H|=1, |L|=1, |supp|=154, area=154, p=0.72, q=0.08) among 20472 candidates\n",
      "[D 230127 18:57:38 diversity_maximization:170] marginal coverage: 154, KL: 1.2289586845658889\n",
      "[D 230127 18:57:43 diversity_maximization:167] choosing rule: Rule(|H|=1, |L|=1, |supp|=68, area=68, p=0.87, q=0.03) among 20472 candidates\n",
      "[D 230127 18:57:43 diversity_maximization:170] marginal coverage: 68, KL: 2.549177778964501\n",
      "[D 230127 18:57:48 diversity_maximization:167] choosing rule: Rule(|H|=2, |L|=1, |supp|=132, area=132, p=0.81, q=0.12) among 20472 candidates\n",
      "[D 230127 18:57:48 diversity_maximization:170] marginal coverage: 132, KL: 1.304738531751723\n",
      "[D 230127 18:57:54 diversity_maximization:167] choosing rule: Rule(|H|=1, |L|=1, |supp|=64, area=64, p=0.89, q=0.04) among 20472 candidates\n",
      "[D 230127 18:57:54 diversity_maximization:170] marginal coverage: 64, KL: 2.4324237380022686\n",
      "[D 230127 18:58:01 diversity_maximization:167] choosing rule: Rule(|H|=1, |L|=1, |supp|=49, area=49, p=0.92, q=0.03) among 20472 candidates\n",
      "[D 230127 18:58:01 diversity_maximization:170] marginal coverage: 49, KL: 2.839787968965652\n",
      "[D 230127 18:58:07 diversity_maximization:167] choosing rule: Rule(|H|=1, |L|=1, |supp|=29, area=29, p=1.00, q=0.02) among 20472 candidates\n",
      "[D 230127 18:58:07 diversity_maximization:170] marginal coverage: 29, KL: 4.051273307986567\n",
      "[D 230127 18:58:13 diversity_maximization:167] choosing rule: Rule(|H|=2, |L|=1, |supp|=29, area=29, p=0.97, q=0.02) among 20472 candidates\n",
      "[D 230127 18:58:13 diversity_maximization:170] marginal coverage: 29, KL: 3.8915928966132256\n",
      "[D 230127 18:58:20 diversity_maximization:167] choosing rule: Rule(|H|=1, |L|=1, |supp|=69, area=69, p=0.58, q=0.04) among 20472 candidates\n",
      "[D 230127 18:58:20 diversity_maximization:170] marginal coverage: 69, KL: 1.2734430729139028\n",
      "[D 230127 18:58:27 diversity_maximization:167] choosing rule: Rule(|H|=1, |L|=1, |supp|=62, area=62, p=0.84, q=0.12) among 20472 candidates\n",
      "[D 230127 18:58:27 diversity_maximization:170] marginal coverage: 61, KL: 1.3876147516333979\n",
      "[D 230127 18:58:34 diversity_maximization:167] choosing rule: Rule(|H|=2, |L|=1, |supp|=94, area=94, p=0.57, q=0.07) among 20472 candidates\n",
      "[D 230127 18:58:34 diversity_maximization:170] marginal coverage: 94, KL: 0.8563605269032131\n",
      "[D 230127 18:58:41 diversity_maximization:167] choosing rule: Rule(|H|=1, |L|=1, |supp|=26, area=26, p=0.84, q=0.02) among 20472 candidates\n",
      "[D 230127 18:58:41 diversity_maximization:170] marginal coverage: 26, KL: 2.7626655578432286\n",
      "[D 230127 18:58:49 diversity_maximization:167] choosing rule: Rule(|H|=2, |L|=1, |supp|=11, area=11, p=1.00, q=0.01) among 20472 candidates\n",
      "[D 230127 18:58:49 diversity_maximization:170] marginal coverage: 11, KL: 4.4865913792444125\n",
      "[D 230127 18:58:57 diversity_maximization:167] choosing rule: Rule(|H|=1, |L|=1, |supp|=16, area=16, p=0.76, q=0.02) among 20472 candidates\n",
      "[D 230127 18:58:57 diversity_maximization:170] marginal coverage: 16, KL: 2.611997352893627\n",
      "[D 230127 18:59:04 diversity_maximization:167] choosing rule: Rule(|H|=1, |L|=1, |supp|=9, area=9, p=1.00, q=0.02) among 20472 candidates\n",
      "[D 230127 18:59:04 diversity_maximization:170] marginal coverage: 9, KL: 4.111897929803002\n",
      "[D 230127 18:59:12 diversity_maximization:167] choosing rule: Rule(|H|=1, |L|=1, |supp|=8, area=8, p=1.00, q=0.01) among 20472 candidates\n",
      "[D 230127 18:59:12 diversity_maximization:170] marginal coverage: 8, KL: 4.4865913792444125\n",
      "[D 230127 18:59:20 diversity_maximization:167] choosing rule: Rule(|H|=2, |L|=1, |supp|=6, area=6, p=1.00, q=0.00) among 20472 candidates\n",
      "[D 230127 18:59:20 diversity_maximization:170] marginal coverage: 6, KL: 5.785874363374673\n",
      "[D 230127 18:59:28 diversity_maximization:167] choosing rule: Rule(|H|=1, |L|=1, |supp|=15, area=15, p=0.94, q=0.03) among 20472 candidates\n",
      "[D 230127 18:59:28 diversity_maximization:170] marginal coverage: 12, KL: 2.9166653588440807\n",
      "[D 230127 18:59:36 diversity_maximization:167] choosing rule: Rule(|H|=2, |L|=1, |supp|=12, area=12, p=0.71, q=0.01) among 20472 candidates\n",
      "[D 230127 18:59:36 diversity_maximization:170] marginal coverage: 12, KL: 2.745775248188685\n",
      "[D 230127 18:59:44 diversity_maximization:167] choosing rule: Rule(|H|=1, |L|=1, |supp|=20, area=20, p=0.42, q=0.01) among 20472 candidates\n",
      "[D 230127 18:59:44 diversity_maximization:170] marginal coverage: 20, KL: 1.2359338082893163\n",
      "[D 230127 18:59:52 diversity_maximization:167] choosing rule: Rule(|H|=1, |L|=1, |supp|=4, area=4, p=1.00, q=0.00) among 20472 candidates\n",
      "[D 230127 18:59:52 diversity_maximization:170] marginal coverage: 4, KL: 5.968195920168627\n",
      "[D 230127 19:00:01 diversity_maximization:167] choosing rule: Rule(|H|=2, |L|=1, |supp|=5, area=5, p=0.83, q=0.00) among 20472 candidates\n",
      "[D 230127 19:00:01 diversity_maximization:170] marginal coverage: 5, KL: 4.523362413456747\n",
      "[D 230127 19:00:09 diversity_maximization:167] choosing rule: Rule(|H|=2, |L|=1, |supp|=144, area=144, p=0.75, q=0.12) among 20472 candidates\n",
      "[D 230127 19:00:09 diversity_maximization:170] marginal coverage: 27, KL: 1.1017612719632484\n",
      "[D 230127 19:00:18 diversity_maximization:167] choosing rule: Rule(|H|=1, |L|=2, |supp|=2, area=4, p=1.00, q=0.00) among 20472 candidates\n",
      "[D 230127 19:00:18 diversity_maximization:170] marginal coverage: 3, KL: 6.884486652042782\n",
      "[D 230127 19:00:27 diversity_maximization:167] choosing rule: Rule(|H|=1, |L|=1, |supp|=33, area=33, p=0.29, q=0.02) among 20472 candidates\n",
      "[D 230127 19:00:27 diversity_maximization:170] marginal coverage: 33, KL: 0.5915782775029972\n",
      "[D 230127 19:00:36 diversity_maximization:167] choosing rule: Rule(|H|=2, |L|=1, |supp|=6, area=6, p=0.67, q=0.00) among 20472 candidates\n",
      "[D 230127 19:00:36 diversity_maximization:170] marginal coverage: 6, KL: 3.119164563146973\n",
      "[I 230127 19:00:36 diversity_maximization:178] 2nd round done: 30 rules selected and coverage ratio 87.16%\n",
      "[I 230127 19:00:36 diversity_maximization:203] 2nd round fitting gives better objective: 4341.27501070079 >= 4340.168504461931\n"
     ]
    }
   ],
   "source": [
    "clf.fit(ds.trn_X, ds.trn_Y)"
   ]
  },
  {
   "cell_type": "code",
   "execution_count": 8,
   "id": "7e4f0055",
   "metadata": {},
   "outputs": [],
   "source": [
    "pred_Y = clf.predict(ds.tst_X)\n",
    "evaluator = Evaluator()\n",
    "perf = evaluator.report(pred_Y, ds.tst_Y)"
   ]
  },
  {
   "cell_type": "code",
   "execution_count": 10,
   "id": "0644417d",
   "metadata": {},
   "outputs": [
    {
     "name": "stdout",
     "output_type": "stream",
     "text": [
      "OrderedDict([('hamming_accuracy', 0.9889457523029682), ('subset_accuracy', 0.6484135107471852), ('micro_precision', 0.7616300036062027), ('micro_recall', 0.8716467189434586), ('micro_f1', 0.812933025404157), ('macro_precision', 0.8894680208607824), ('macro_recall', 0.5024357158149877), ('macro_f1', 0.4691918958698777)])\n"
     ]
    }
   ],
   "source": [
    "print(perf)"
   ]
  },
  {
   "cell_type": "code",
   "execution_count": 9,
   "id": "a395bde4",
   "metadata": {},
   "outputs": [
    {
     "name": "stdout",
     "output_type": "stream",
     "text": [
      "hamming_accuracy: 0.99\n",
      "subset_accuracy: 0.65\n",
      "micro_precision: 0.76\n",
      "micro_recall: 0.87\n",
      "micro_f1: 0.81\n",
      "macro_precision: 0.89\n",
      "macro_recall: 0.50\n",
      "macro_f1: 0.47\n"
     ]
    }
   ],
   "source": [
    "for k, v in perf.items():\n",
    "    print(f'{k}: {v:.2f}')"
   ]
  }
 ],
 "metadata": {
  "kernelspec": {
   "display_name": "Python 3 (ipykernel)",
   "language": "python",
   "name": "python3"
  },
  "language_info": {
   "codemirror_mode": {
    "name": "ipython",
    "version": 3
   },
   "file_extension": ".py",
   "mimetype": "text/x-python",
   "name": "python",
   "nbconvert_exporter": "python",
   "pygments_lexer": "ipython3",
   "version": "3.8.16"
  }
 },
 "nbformat": 4,
 "nbformat_minor": 5
}
