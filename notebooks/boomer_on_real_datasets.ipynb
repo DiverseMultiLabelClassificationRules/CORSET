{
 "cells": [
  {
   "cell_type": "code",
   "execution_count": 3,
   "id": "cbc71a1c",
   "metadata": {
    "collapsed": false
   },
   "outputs": [],
   "source": [
    "import json\n",
    "import numpy as np\n",
    "\n",
    "from mlrl.boosting import Boomer\n",
    "from mlrl.testbed import data\n",
    "\n",
    "from corset.evaluation import Evaluator\n",
    "from corset.utils import pjoin, makedir, load_pickle"
   ]
  },
  {
   "cell_type": "code",
   "execution_count": 14,
   "id": "147f6b33",
   "metadata": {
    "collapsed": false
   },
   "outputs": [],
   "source": [
    "ds_name = 'medical'\n",
    "trn_X, trn_Y, md = data.load_data_set_and_meta_data(f'datasets/MULAN/{ds_name}', f'{ds_name}-train.arff', f'{ds_name}.xml')\n",
    "tst_X, tst_Y, md = data.load_data_set_and_meta_data(f'datasets/MULAN/{ds_name}', f'{ds_name}-test.arff', f'{ds_name}.xml')\n",
    "rule_num = 1000\n",
    "clf = Boomer(max_rules=rule_num)\n",
    "\n",
    "clf.fit(trn_X, trn_Y)\n",
    "pred_Y = clf.predict(tst_X)\n",
    "        \n",
    "ev = Evaluator()\n",
    "perf = ev.report(pred_Y, tst_Y)\n",
    "perf['max_rules'] = int(rule_num)\n",
    "perf['num_used_rules'] = clf.model_.get_num_used_rules()"
   ]
  },
  {
   "cell_type": "code",
   "execution_count": 13,
   "id": "c711ef35",
   "metadata": {
    "collapsed": false
   },
   "outputs": [
    {
     "data": {
      "text/plain": [
       "2423"
      ]
     },
     "execution_count": 13,
     "metadata": {},
     "output_type": "execute_result"
    }
   ],
   "source": [
    "len(tst_Y.nonzero()[0])"
   ]
  },
  {
   "cell_type": "code",
   "execution_count": 15,
   "id": "e0880a93",
   "metadata": {
    "collapsed": false
   },
   "outputs": [
    {
     "data": {
      "text/plain": [
       "1832"
      ]
     },
     "execution_count": 15,
     "metadata": {},
     "output_type": "execute_result"
    }
   ],
   "source": [
    "len(pred_Y.nonzero()[0])"
   ]
  },
  {
   "cell_type": "code",
   "execution_count": null,
   "id": "527d07c7",
   "metadata": {
    "collapsed": false
   },
   "outputs": [],
   "source": [
    "{'hamming_accuracy': 0.9733879222108496,  0.9775616968042762\n",
    " 'subset_accuracy': 0.025076765609007165, 0.1827021494370522\n",
    " 'micro_precision': 0.9560439560439561,   0.793733681462141\n",
    " 'micro_recall': 0.035905901774659514,    0.2509286009079653\n",
    " 'micro_f1': 0.06921241050119332,         0.3813107557227971\n",
    " 'macro_precision': 0.987719298245614,    0.03433397121807947\n",
    " 'macro_recall': 0.0170853661090731,      0.032618413916554595\n",
    " 'macro_f1': 0.026685080093049738,        0.03343649330577435\n",
    " 'max_rules': 200,\n",
    " 'num_used_rules': 200}"
   ]
  },
  {
   "cell_type": "code",
   "execution_count": 16,
   "id": "b0d1c862",
   "metadata": {
    "collapsed": false
   },
   "outputs": [
    {
     "data": {
      "text/plain": [
       "{'hamming_accuracy': 0.9893437962015239,\n",
       " 'subset_accuracy': 0.6054247697031729,\n",
       " 'micro_precision': 0.9055676855895196,\n",
       " 'micro_recall': 0.6846884028064383,\n",
       " 'micro_f1': 0.7797884841363102,\n",
       " 'macro_precision': 0.969902142636556,\n",
       " 'macro_recall': 0.2788757996026049,\n",
       " 'macro_f1': 0.3089353033484137,\n",
       " 'max_rules': 1000,\n",
       " 'num_used_rules': 1000}"
      ]
     },
     "execution_count": 16,
     "metadata": {},
     "output_type": "execute_result"
    }
   ],
   "source": [
    "dict(perf)"
   ]
  }
 ],
 "metadata": {
  "kernelspec": {
   "argv": [
    "python",
    "-m",
    "ipykernel_launcher",
    "-f",
    "{connection_file}"
   ],
   "display_name": "Python 3 (ipykernel)",
   "env": null,
   "interrupt_mode": "signal",
   "language": "python",
   "metadata": {
    "debugger": true
   },
   "name": "python3"
  },
  "name": "boomer_on_real_datasets.ipynb"
 },
 "nbformat": 4,
 "nbformat_minor": 5
}
