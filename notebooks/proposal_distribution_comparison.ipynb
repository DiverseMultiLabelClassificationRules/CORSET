{
 "cells": [
  {
   "cell_type": "code",
   "execution_count": 1,
   "id": "93649e41",
   "metadata": {},
   "outputs": [
    {
     "name": "stdout",
     "output_type": "stream",
     "text": [
      "The autoreload extension is already loaded. To reload it, use:\n",
      "  %reload_ext autoreload\n"
     ]
    }
   ],
   "source": [
    "%load_ext autoreload\n",
    "%autoreload 2"
   ]
  },
  {
   "cell_type": "code",
   "execution_count": 2,
   "id": "5a9cd201",
   "metadata": {},
   "outputs": [],
   "source": [
    "import sys\n",
    "sys.path.insert(0, '../')"
   ]
  },
  {
   "cell_type": "code",
   "execution_count": 3,
   "id": "768c2d05",
   "metadata": {},
   "outputs": [],
   "source": [
    "import numpy as np\n",
    "import seaborn as sns\n",
    "import pandas as pd\n",
    "from tqdm import tqdm\n",
    "\n",
    "from corset.data import Dataset\n",
    "from corset.utils import flatten, makedir\n",
    "from corset.samplers.discrim import CFTPDiscriminativitySampler"
   ]
  },
  {
   "cell_type": "code",
   "execution_count": 4,
   "id": "3fad13f2",
   "metadata": {},
   "outputs": [],
   "source": [
    "from viz_utils import set_mpl_style, dataset_ordering\n",
    "    \n",
    "set_mpl_style()    "
   ]
  },
  {
   "cell_type": "code",
   "execution_count": 5,
   "id": "6592b638",
   "metadata": {},
   "outputs": [],
   "source": [
    "def run_experiment_for_dataset(\n",
    "    dataset_name, min_proba,\n",
    "    num_samples_per_label=100,\n",
    "    label_sample_size=50  # number of labels to sample\n",
    "):\n",
    "    ds = Dataset(name=dataset_name, datadir='../data')\n",
    "    ds.load()\n",
    "    X, Y = ds.trn_X, ds.trn_Y    \n",
    "\n",
    "    # construct the sampler using the tight proposal distribution\n",
    "    sampler_tight = CFTPDiscriminativitySampler(proposal_distribution='tight', min_proba=min_proba)\n",
    "    sampler_tight.build_sample_space_and_generate_rows(X)    \n",
    "    \n",
    "    # construct the sampler using the original proposal distribution\n",
    "    sampler_original = CFTPDiscriminativitySampler(proposal_distribution='original', min_proba=min_proba)\n",
    "\n",
    "    # hack: copy the sample and new_rows, to avoid recomputing the same results\n",
    "    sampler_original._sample_space = sampler_tight._sample_space\n",
    "    sampler_original.new_rows = sampler_tight.new_rows\n",
    "\n",
    "\n",
    "    # sample using each sampler multiple times and collect sampling information\n",
    "    samplers = {\n",
    "        'tight': sampler_tight,\n",
    "        'orignal': sampler_original\n",
    "    }    \n",
    "\n",
    "    result_rows = []\n",
    "    # sample a set of labels\n",
    "    label_samples = np.random.permutation(Y.shape[1])[:label_sample_size]\n",
    "    for label_idx in label_samples:\n",
    "        y = flatten(Y[:, label_idx].todense())\n",
    "        \n",
    "        if len(np.unique(y)) < 2:\n",
    "            # continue only one class, skip\n",
    "            continue\n",
    "            \n",
    "        sampler_tight.fit(X, y)\n",
    "        sampler_original.fit(X, y)\n",
    "\n",
    "\n",
    "        for name, sampler in samplers.items():\n",
    "            samples_with_details = sampler.sample(\n",
    "                k=num_samples_per_label,\n",
    "                return_sample_index=False,\n",
    "                return_cftp_details=True\n",
    "            )\n",
    "            for trial, sample_with_details in enumerate(samples_with_details):\n",
    "                if sample_with_details is not None:  # converged with a reasonable number of iterations, e.g., 1024\n",
    "                    details = sample_with_details[1]\n",
    "                    num_iterations = details['num_iterations']\n",
    "                else:\n",
    "                    num_iterations = -1  # does not converge\n",
    "                    \n",
    "                result_rows.append(\n",
    "                    (dataset_name, name, label_idx, trial, num_iterations)\n",
    "                )\n",
    "    return pd.DataFrame(result_rows, columns=['dataset', 'proposal', 'label_idx', 'trial', 'num_iters'])"
   ]
  },
  {
   "cell_type": "code",
   "execution_count": 6,
   "id": "6cd703b9",
   "metadata": {
    "scrolled": false
   },
   "outputs": [
    {
     "name": "stdout",
     "output_type": "stream",
     "text": [
      "experimenting with dataset mediamill\n"
     ]
    },
    {
     "name": "stderr",
     "output_type": "stream",
     "text": [
      "[D 230126 22:59:59 pc:129] confidence graph construction: done\n",
      "[D 230126 22:59:59 pc:131] converting to connectivity graph: done\n",
      "[D 230126 22:59:59 pc:106] prune edges from the graph: done\n",
      "[D 230126 22:59:59 pc:107] number of nodes: 120\n",
      "[D 230126 22:59:59 pc:108] number of edges change: 6211 -> 815\n",
      "100%|████████████████████████████████████████████████████████████████████████████████████████████████████████████████████████████████████████████████████████████████████████████████████████████████████████████████████████████████████| 120/120 [00:00<00:00, 11251.82it/s]\n",
      "[D 230126 22:59:59 pc:120] running dfs takes: 0.03771376609802246\n",
      "[D 230126 22:59:59 pc:122] sample space size: 3363\n",
      "[D 230126 22:59:59 PRETTI_invertedIndex:11] building inverted index...\n"
     ]
    },
    {
     "name": "stdout",
     "output_type": "stream",
     "text": [
      "elapsed in dfs_v2_aux: 0.03107619285583496\n"
     ]
    },
    {
     "name": "stderr",
     "output_type": "stream",
     "text": [
      "[D 230126 23:00:07 PRETTI_invertedIndex:7] done\n",
      "[I 230126 23:00:09 assignment:72] sample assignment done\n"
     ]
    },
    {
     "name": "stdout",
     "output_type": "stream",
     "text": [
      "experimenting with dataset Yelp\n"
     ]
    },
    {
     "name": "stderr",
     "output_type": "stream",
     "text": [
      "[D 230126 23:01:05 pc:129] confidence graph construction: done\n",
      "[D 230126 23:01:07 pc:131] converting to connectivity graph: done\n",
      "[D 230126 23:01:08 pc:106] prune edges from the graph: done\n",
      "[D 230126 23:01:08 pc:107] number of nodes: 671\n",
      "[D 230126 23:01:08 pc:108] number of edges change: 204976 -> 103\n",
      "100%|██████████████████████████████████████████████████████████████████████████████████████████████████████████████████████████████████████████████████████████████████████████████████████████████████████████████████████████████████| 671/671 [00:00<00:00, 1023038.16it/s]\n",
      "[D 230126 23:01:08 pc:120] running dfs takes: 0.006267070770263672\n",
      "[D 230126 23:01:08 pc:122] sample space size: 778\n",
      "[D 230126 23:01:08 PRETTI_invertedIndex:11] building inverted index...\n"
     ]
    },
    {
     "name": "stdout",
     "output_type": "stream",
     "text": [
      "elapsed in dfs_v2_aux: 0.0061228275299072266\n"
     ]
    },
    {
     "name": "stderr",
     "output_type": "stream",
     "text": [
      "[D 230126 23:01:20 PRETTI_invertedIndex:7] done\n",
      "[I 230126 23:01:21 assignment:72] sample assignment done\n",
      "[D 230126 23:01:23 pc:129] confidence graph construction: done\n",
      "[D 230126 23:01:23 pc:131] converting to connectivity graph: done\n"
     ]
    },
    {
     "name": "stdout",
     "output_type": "stream",
     "text": [
      "experimenting with dataset CAL500\n"
     ]
    },
    {
     "name": "stderr",
     "output_type": "stream",
     "text": [
      "[D 230126 23:01:23 pc:106] prune edges from the graph: done\n",
      "[D 230126 23:01:23 pc:107] number of nodes: 68\n",
      "[D 230126 23:01:23 pc:108] number of edges change: 2210 -> 23\n",
      "100%|█████████████████████████████████████████████████████████████████████████████████████████████████████████████████████████████████████████████████████████████████████████████████████████████████████████████████████████████████████| 68/68 [00:00<00:00, 243980.04it/s]\n",
      "[D 230126 23:01:23 pc:120] running dfs takes: 0.0032660961151123047\n",
      "[D 230126 23:01:23 pc:122] sample space size: 91\n",
      "[D 230126 23:01:23 PRETTI_invertedIndex:11] building inverted index...\n",
      "[D 230126 23:01:23 PRETTI_invertedIndex:7] done\n",
      "[I 230126 23:01:23 assignment:72] sample assignment done\n"
     ]
    },
    {
     "name": "stdout",
     "output_type": "stream",
     "text": [
      "elapsed in dfs_v2_aux: 0.0032269954681396484\n",
      "experimenting with dataset corel5k\n"
     ]
    },
    {
     "name": "stderr",
     "output_type": "stream",
     "text": [
      "[D 230126 23:01:31 pc:129] confidence graph construction: done\n",
      "[D 230126 23:01:32 pc:131] converting to connectivity graph: done\n",
      "[D 230126 23:01:32 pc:106] prune edges from the graph: done\n",
      "[D 230126 23:01:32 pc:107] number of nodes: 499\n",
      "[D 230126 23:01:32 pc:108] number of edges change: 49631 -> 0\n",
      "100%|██████████████████████████████████████████████████████████████████████████████████████████████████████████████████████████████████████████████████████████████████████████████████████████████████████████████████████████████████| 499/499 [00:00<00:00, 1404669.59it/s]\n",
      "[D 230126 23:01:32 pc:120] running dfs takes: 0.003863096237182617\n",
      "[D 230126 23:01:32 pc:122] sample space size: 499\n",
      "[D 230126 23:01:32 PRETTI_invertedIndex:11] building inverted index...\n"
     ]
    },
    {
     "name": "stdout",
     "output_type": "stream",
     "text": [
      "elapsed in dfs_v2_aux: 0.0038063526153564453\n"
     ]
    },
    {
     "name": "stderr",
     "output_type": "stream",
     "text": [
      "[D 230126 23:01:34 PRETTI_invertedIndex:7] done\n",
      "[I 230126 23:01:34 assignment:72] sample assignment done\n"
     ]
    },
    {
     "name": "stdout",
     "output_type": "stream",
     "text": [
      "experimenting with dataset medical\n"
     ]
    },
    {
     "name": "stderr",
     "output_type": "stream",
     "text": [
      "[D 230126 23:01:47 pc:129] confidence graph construction: done\n",
      "[D 230126 23:01:48 pc:131] converting to connectivity graph: done\n",
      "[D 230126 23:01:48 pc:106] prune edges from the graph: done\n",
      "[D 230126 23:01:48 pc:107] number of nodes: 1909\n",
      "[D 230126 23:01:48 pc:108] number of edges change: 81935 -> 18629\n",
      "100%|███████████████████████████████████████████████████████████████████████████████████████████████████████████████████████████████████████████████████████████████████████████████████████████████████████████████████████████████████| 1909/1909 [00:00<00:00, 5669.62it/s]\n",
      "[D 230126 23:01:49 pc:120] running dfs takes: 0.41640710830688477\n"
     ]
    },
    {
     "name": "stdout",
     "output_type": "stream",
     "text": [
      "elapsed in dfs_v2_aux: 0.41284894943237305\n"
     ]
    },
    {
     "name": "stderr",
     "output_type": "stream",
     "text": [
      "[D 230126 23:01:50 pc:122] sample space size: 297683\n",
      "[D 230126 23:01:50 PRETTI_invertedIndex:11] building inverted index...\n",
      "[D 230126 23:01:54 PRETTI_invertedIndex:7] done\n",
      "[I 230126 23:02:16 assignment:72] sample assignment done\n"
     ]
    },
    {
     "name": "stdout",
     "output_type": "stream",
     "text": [
      "reaching max number of iters\n",
      "reaching max number of iters\n",
      "experimenting with dataset bibtex\n"
     ]
    },
    {
     "name": "stderr",
     "output_type": "stream",
     "text": [
      "[D 230126 23:03:34 pc:129] confidence graph construction: done\n",
      "[D 230126 23:03:52 pc:131] converting to connectivity graph: done\n",
      "[D 230126 23:03:54 pc:106] prune edges from the graph: done\n",
      "[D 230126 23:03:54 pc:107] number of nodes: 1836\n",
      "[D 230126 23:03:54 pc:108] number of edges change: 1320369 -> 9790\n",
      "100%|███████████████████████████████████████████████████████████████████████████████████████████████████████████████████████████████████████████████████████████████████████████████████████████████████████████████████████████████████| 1836/1836 [00:00<00:00, 8499.59it/s]\n",
      "[D 230126 23:03:54 pc:120] running dfs takes: 0.26055097579956055\n"
     ]
    },
    {
     "name": "stdout",
     "output_type": "stream",
     "text": [
      "elapsed in dfs_v2_aux: 0.25983691215515137\n"
     ]
    },
    {
     "name": "stderr",
     "output_type": "stream",
     "text": [
      "[D 230126 23:03:55 pc:122] sample space size: 48292\n",
      "[D 230126 23:03:55 PRETTI_invertedIndex:11] building inverted index...\n",
      "[D 230126 23:04:31 PRETTI_invertedIndex:7] done\n",
      "[I 230126 23:04:38 assignment:72] sample assignment done\n",
      "[D 230126 23:05:13 pc:129] confidence graph construction: done\n",
      "[D 230126 23:05:13 pc:131] converting to connectivity graph: done\n",
      "[D 230126 23:05:13 pc:106] prune edges from the graph: done\n",
      "[D 230126 23:05:13 pc:107] number of nodes: 72\n",
      "[D 230126 23:05:13 pc:108] number of edges change: 2286 -> 319\n"
     ]
    },
    {
     "name": "stdout",
     "output_type": "stream",
     "text": [
      "experimenting with dataset emotions\n"
     ]
    },
    {
     "name": "stderr",
     "output_type": "stream",
     "text": [
      "100%|█████████████████████████████████████████████████████████████████████████████████████████████████████████████████████████████████████████████████████████████████████████████████████████████████████████████████████████████████████| 72/72 [00:00<00:00, 117597.31it/s]\n",
      "[D 230126 23:05:13 pc:120] running dfs takes: 0.0042040348052978516\n",
      "[D 230126 23:05:13 pc:122] sample space size: 497\n",
      "[D 230126 23:05:13 PRETTI_invertedIndex:11] building inverted index...\n"
     ]
    },
    {
     "name": "stdout",
     "output_type": "stream",
     "text": [
      "elapsed in dfs_v2_aux: 0.004102945327758789\n"
     ]
    },
    {
     "name": "stderr",
     "output_type": "stream",
     "text": [
      "[D 230126 23:05:13 PRETTI_invertedIndex:7] done\n",
      "[I 230126 23:05:13 assignment:72] sample assignment done\n"
     ]
    },
    {
     "name": "stdout",
     "output_type": "stream",
     "text": [
      "experimenting with dataset birds\n"
     ]
    },
    {
     "name": "stderr",
     "output_type": "stream",
     "text": [
      "[D 230126 23:05:14 pc:129] confidence graph construction: done\n",
      "[D 230126 23:05:15 pc:131] converting to connectivity graph: done\n",
      "[D 230126 23:05:15 pc:106] prune edges from the graph: done\n",
      "[D 230126 23:05:15 pc:107] number of nodes: 271\n",
      "[D 230126 23:05:15 pc:108] number of edges change: 24485 -> 1473\n",
      "100%|█████████████████████████████████████████████████████████████████████████████████████████████████████████████████████████████████████████████████████████████████████████████████████████████████████████████████████████████████████| 271/271 [00:00<00:00, 5038.10it/s]\n",
      "[D 230126 23:05:15 pc:120] running dfs takes: 0.06324505805969238\n",
      "[D 230126 23:05:15 pc:122] sample space size: 15298\n",
      "[D 230126 23:05:15 PRETTI_invertedIndex:11] building inverted index...\n",
      "[D 230126 23:05:15 PRETTI_invertedIndex:7] done\n"
     ]
    },
    {
     "name": "stdout",
     "output_type": "stream",
     "text": [
      "elapsed in dfs_v2_aux: 0.0630500316619873\n"
     ]
    },
    {
     "name": "stderr",
     "output_type": "stream",
     "text": [
      "[I 230126 23:05:15 assignment:72] sample assignment done\n"
     ]
    },
    {
     "name": "stdout",
     "output_type": "stream",
     "text": [
      "experimenting with dataset birds\n"
     ]
    },
    {
     "name": "stderr",
     "output_type": "stream",
     "text": [
      "[D 230126 23:05:22 pc:129] confidence graph construction: done\n",
      "[D 230126 23:05:22 pc:131] converting to connectivity graph: done\n",
      "[D 230126 23:05:22 pc:106] prune edges from the graph: done\n",
      "[D 230126 23:05:22 pc:107] number of nodes: 271\n",
      "[D 230126 23:05:22 pc:108] number of edges change: 24485 -> 1473\n",
      "100%|█████████████████████████████████████████████████████████████████████████████████████████████████████████████████████████████████████████████████████████████████████████████████████████████████████████████████████████████████████| 271/271 [00:00<00:00, 5038.04it/s]\n",
      "[D 230126 23:05:22 pc:120] running dfs takes: 0.06353998184204102\n",
      "[D 230126 23:05:22 pc:122] sample space size: 15298\n",
      "[D 230126 23:05:22 PRETTI_invertedIndex:11] building inverted index...\n",
      "[D 230126 23:05:22 PRETTI_invertedIndex:7] done\n"
     ]
    },
    {
     "name": "stdout",
     "output_type": "stream",
     "text": [
      "elapsed in dfs_v2_aux: 0.0632009506225586\n"
     ]
    },
    {
     "name": "stderr",
     "output_type": "stream",
     "text": [
      "[I 230126 23:05:22 assignment:72] sample assignment done\n"
     ]
    },
    {
     "name": "stdout",
     "output_type": "stream",
     "text": [
      "experimenting with dataset enron\n"
     ]
    },
    {
     "name": "stderr",
     "output_type": "stream",
     "text": [
      "[D 230126 23:05:46 pc:129] confidence graph construction: done\n",
      "[D 230126 23:05:52 pc:131] converting to connectivity graph: done\n",
      "[D 230126 23:05:53 pc:106] prune edges from the graph: done\n",
      "[D 230126 23:05:53 pc:107] number of nodes: 1001\n",
      "[D 230126 23:05:53 pc:108] number of edges change: 499511 -> 3071\n",
      "100%|█████████████████████████████████████████████████████████████████████████████████████████████████████████████████████████████████████████████████████████████████████████████████████████████████████████████████████████████████| 1001/1001 [00:00<00:00, 101747.24it/s]\n",
      "[D 230126 23:05:53 pc:120] running dfs takes: 0.030190229415893555\n",
      "[D 230126 23:05:53 pc:122] sample space size: 5152\n",
      "[D 230126 23:05:53 PRETTI_invertedIndex:11] building inverted index...\n"
     ]
    },
    {
     "name": "stdout",
     "output_type": "stream",
     "text": [
      "elapsed in dfs_v2_aux: 0.03000187873840332\n"
     ]
    },
    {
     "name": "stderr",
     "output_type": "stream",
     "text": [
      "[D 230126 23:05:54 PRETTI_invertedIndex:7] done\n",
      "[I 230126 23:05:54 assignment:72] sample assignment done\n"
     ]
    }
   ],
   "source": [
    "exp_configs = [\n",
    "    ('mediamill', 0.8),    \n",
    "    ('Yelp', 0.8),\n",
    "    ('CAL500', 0.8),\n",
    "    ('corel5k', .8),        \n",
    "    ('medical', .95),\n",
    "    ('bibtex', 0.95),\n",
    "    ('emotions', 0.5),\n",
    "    ('birds', 0.95),\n",
    "    ('birds', .95),\n",
    "    ('enron', 1.0),\n",
    "]\n",
    "df_list = []\n",
    "for dataset_name, min_proba in exp_configs:\n",
    "    print(f'experimenting with dataset {dataset_name}')\n",
    "    df = run_experiment_for_dataset(dataset_name, min_proba)\n",
    "    df_list.append(df)\n"
   ]
  },
  {
   "cell_type": "code",
   "execution_count": 16,
   "id": "a215530d",
   "metadata": {},
   "outputs": [],
   "source": [
    "df = pd.concat(df_list, ignore_index=True)"
   ]
  },
  {
   "cell_type": "code",
   "execution_count": 17,
   "id": "c759102d",
   "metadata": {},
   "outputs": [
    {
     "data": {
      "text/plain": [
       "dataset    proposal\n",
       "CAL500     orignal     1.000000\n",
       "           tight       1.000000\n",
       "Yelp       orignal     1.000000\n",
       "           tight       1.000000\n",
       "bibtex     orignal     1.000000\n",
       "           tight       1.000000\n",
       "birds      orignal     1.000000\n",
       "           tight       1.000000\n",
       "corel5k    orignal     1.000000\n",
       "           tight       1.000000\n",
       "emotions   orignal     1.000000\n",
       "           tight       1.000000\n",
       "enron      orignal     1.000000\n",
       "           tight       1.000000\n",
       "mediamill  orignal     1.000000\n",
       "           tight       1.000000\n",
       "medical    orignal     0.999556\n",
       "           tight       1.000000\n",
       "Name: num_iters, dtype: float64"
      ]
     },
     "execution_count": 17,
     "metadata": {},
     "output_type": "execute_result"
    }
   ],
   "source": [
    "# fraction of sampling trials that converged\n",
    "converged_df = df[df['num_iters'] > 0]\n",
    "converged_ratio = converged_df.groupby(['dataset', 'proposal'])['num_iters'].count() / df.groupby(['dataset', 'proposal'])['num_iters'].count()\n",
    "converged_ratio"
   ]
  },
  {
   "cell_type": "code",
   "execution_count": 18,
   "id": "cc0faedb",
   "metadata": {},
   "outputs": [],
   "source": [
    "output_path = 'outputs/head-sampling-proposal-distribution-comparison.pkl'\n",
    "makedir(output_path, usedir=True)\n",
    "df.to_pickle(output_path)"
   ]
  },
  {
   "cell_type": "code",
   "execution_count": 19,
   "id": "6af7f779",
   "metadata": {},
   "outputs": [
    {
     "name": "stderr",
     "output_type": "stream",
     "text": [
      "/var/folders/56/m2bm9k3508q4_2f94y87db9c0000gv/T/ipykernel_98387/4231867335.py:1: SettingWithCopyWarning: \n",
      "A value is trying to be set on a copy of a slice from a DataFrame.\n",
      "Try using .loc[row_indexer,col_indexer] = value instead\n",
      "\n",
      "See the caveats in the documentation: https://pandas.pydata.org/pandas-docs/stable/user_guide/indexing.html#returning-a-view-versus-a-copy\n",
      "  converged_df['log(num_iters)'] = np.log(converged_df['num_iters'])\n"
     ]
    }
   ],
   "source": [
    "converged_df['log(num_iters)'] = np.log(converged_df['num_iters'])\n",
    "\n",
    "summ_df = converged_df.groupby(['dataset', 'proposal'])['log(num_iters)'].mean()\n",
    "\n",
    "summ_df = summ_df.reset_index()\n",
    "\n",
    "# rename the proposal distribution name\n",
    "proposal_name_mapping = {'tight': 'Eq. 17 (used by CORSET)', 'orignal': 'Eq. 16 (used in [23])'}\n",
    "summ_df = summ_df.assign(**{'proposal-renamed': summ_df['proposal'].apply(lambda v: proposal_name_mapping[v])})\n",
    "\n",
    "new_legend_title = r'Proposal distribution'\n",
    "summ_df = summ_df.rename(columns={'proposal-renamed': new_legend_title})"
   ]
  },
  {
   "cell_type": "code",
   "execution_count": 20,
   "id": "559f931e",
   "metadata": {
    "scrolled": false
   },
   "outputs": [
    {
     "data": {
      "image/png": "[encoded data removed]",
      "text/plain": [
       "<Figure size 576x396 with 1 Axes>"
      ]
     },
     "metadata": {},
     "output_type": "display_data"
    }
   ],
   "source": [
    "\n",
    "\n",
    "plot = sns.barplot(\n",
    "    data=summ_df, y='dataset', x='log(num_iters)', hue=new_legend_title,\n",
    "    order=dataset_ordering\n",
    ")\n",
    "fig = plot.figure\n",
    "ax = fig.axes[0]\n",
    "ax.set_xlabel(r'avg. of $\\log(N)$')\n",
    "ax.set_ylabel('')\n",
    "plot.figure.savefig('../plots/proposal-distribution-comparison.pdf')"
   ]
  },
  {
   "cell_type": "code",
   "execution_count": 21,
   "id": "5ab2fa14",
   "metadata": {},
   "outputs": [
    {
     "name": "stdout",
     "output_type": "stream",
     "text": [
      "|    | dataset   | proposal   |   log(num_iters) | Proposal distribution   |\n",
      "|---:|:----------|:-----------|-----------------:|:------------------------|\n",
      "|  0 | CAL500    | orignal    |        0.964306  | Eq. 16 (used in [23])   |\n",
      "|  1 | CAL500    | tight      |        0.0726418 | Eq. 17 (used by CORSET) |\n",
      "|  2 | Yelp      | orignal    |        1.35025   | Eq. 16 (used in [23])   |\n",
      "|  3 | Yelp      | tight      |        0.0928817 | Eq. 17 (used by CORSET) |\n",
      "|  4 | bibtex    | orignal    |        1.5471    | Eq. 16 (used in [23])   |\n",
      "|  5 | bibtex    | tight      |        0.161781  | Eq. 17 (used by CORSET) |\n",
      "|  6 | birds     | orignal    |        1.65261   | Eq. 16 (used in [23])   |\n",
      "|  7 | birds     | tight      |        0.0620184 | Eq. 17 (used by CORSET) |\n",
      "|  8 | corel5k   | orignal    |        1.84462   | Eq. 16 (used in [23])   |\n",
      "|  9 | corel5k   | tight      |        0.0131557 | Eq. 17 (used by CORSET) |\n",
      "| 10 | emotions  | orignal    |        1.10904   | Eq. 16 (used in [23])   |\n",
      "| 11 | emotions  | tight      |        0.0335021 | Eq. 17 (used by CORSET) |\n",
      "| 12 | enron     | orignal    |        1.66624   | Eq. 16 (used in [23])   |\n",
      "| 13 | enron     | tight      |        0.092231  | Eq. 17 (used by CORSET) |\n",
      "| 14 | mediamill | orignal    |        1.03237   | Eq. 16 (used in [23])   |\n",
      "| 15 | mediamill | tight      |        0.0555904 | Eq. 17 (used by CORSET) |\n",
      "| 16 | medical   | orignal    |        3.91078   | Eq. 16 (used in [23])   |\n",
      "| 17 | medical   | tight      |        0.0288041 | Eq. 17 (used by CORSET) |\n"
     ]
    }
   ],
   "source": [
    "print(summ_df.to_markdown())"
   ]
  },
  {
   "cell_type": "code",
   "execution_count": 22,
   "id": "129f84b6",
   "metadata": {},
   "outputs": [
    {
     "name": "stdout",
     "output_type": "stream",
     "text": [
      "\\begin{tabular}{lllrl}\n",
      "\\toprule\n",
      "{} &    dataset & proposal &  log(num\\_iters) &    Proposal distribution \\\\\n",
      "\\midrule\n",
      "0  &     CAL500 &  orignal &             1.0 &    Eq. 16 (used in [23]) \\\\\n",
      "1  &     CAL500 &    tight &             0.1 &  Eq. 17 (used by CORSET) \\\\\n",
      "2  &       Yelp &  orignal &             1.4 &    Eq. 16 (used in [23]) \\\\\n",
      "3  &       Yelp &    tight &             0.1 &  Eq. 17 (used by CORSET) \\\\\n",
      "4  &     bibtex &  orignal &             1.5 &    Eq. 16 (used in [23]) \\\\\n",
      "5  &     bibtex &    tight &             0.2 &  Eq. 17 (used by CORSET) \\\\\n",
      "6  &      birds &  orignal &             1.7 &    Eq. 16 (used in [23]) \\\\\n",
      "7  &      birds &    tight &             0.1 &  Eq. 17 (used by CORSET) \\\\\n",
      "8  &    corel5k &  orignal &             1.8 &    Eq. 16 (used in [23]) \\\\\n",
      "9  &    corel5k &    tight &             0.0 &  Eq. 17 (used by CORSET) \\\\\n",
      "10 &   emotions &  orignal &             1.1 &    Eq. 16 (used in [23]) \\\\\n",
      "11 &   emotions &    tight &             0.0 &  Eq. 17 (used by CORSET) \\\\\n",
      "12 &      enron &  orignal &             1.7 &    Eq. 16 (used in [23]) \\\\\n",
      "13 &      enron &    tight &             0.1 &  Eq. 17 (used by CORSET) \\\\\n",
      "14 &  mediamill &  orignal &             1.0 &    Eq. 16 (used in [23]) \\\\\n",
      "15 &  mediamill &    tight &             0.1 &  Eq. 17 (used by CORSET) \\\\\n",
      "16 &    medical &  orignal &             3.9 &    Eq. 16 (used in [23]) \\\\\n",
      "17 &    medical &    tight &             0.0 &  Eq. 17 (used by CORSET) \\\\\n",
      "\\bottomrule\n",
      "\\end{tabular}\n",
      "\n"
     ]
    },
    {
     "name": "stderr",
     "output_type": "stream",
     "text": [
      "/var/folders/56/m2bm9k3508q4_2f94y87db9c0000gv/T/ipykernel_98387/2909457095.py:1: FutureWarning: In future versions `DataFrame.to_latex` is expected to utilise the base implementation of `Styler.to_latex` for formatting and rendering. The arguments signature may therefore change. It is recommended instead to use `DataFrame.style.to_latex` which also contains additional functionality.\n",
      "  print(summ_df.to_latex(float_format='%.1f'))\n"
     ]
    }
   ],
   "source": [
    "print(summ_df.to_latex(float_format='%.1f'))"
   ]
  }
 ],
 "metadata": {
  "kernelspec": {
   "display_name": "Python 3 (ipykernel)",
   "language": "python",
   "name": "python3"
  },
  "language_info": {
   "codemirror_mode": {
    "name": "ipython",
    "version": 3
   },
   "file_extension": ".py",
   "mimetype": "text/x-python",
   "name": "python",
   "nbconvert_exporter": "python",
   "pygments_lexer": "ipython3",
   "version": "3.8.16"
  }
 },
 "nbformat": 4,
 "nbformat_minor": 5
}
