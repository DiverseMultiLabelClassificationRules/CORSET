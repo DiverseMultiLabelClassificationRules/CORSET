{
 "cells": [
  {
   "cell_type": "markdown",
   "id": "8b5e3150",
   "metadata": {
    "collapsed": false
   },
   "source": [
    "say we want to sample tails using Boley's local sampling framework, what would the weights of data records be?\n",
    "\n",
    "this notebook shows that the DR weights of some datasets are quite skewed, e.g., weights a few DR dominates the remaining\n",
    "\n",
    "the consequence is those \"heavy\" DRs are almost always sampled"
   ]
  },
  {
   "cell_type": "code",
   "execution_count": 10,
   "id": "47d7c245",
   "metadata": {
    "collapsed": false
   },
   "outputs": [],
   "source": [
    "import numpy as np\n",
    "from corset.data import Dataset\n",
    "from corset.utils import flatten\n",
    "ds = Dataset(name='bibtex')\n",
    "ds.load()\n"
   ]
  },
  {
   "cell_type": "code",
   "execution_count": 11,
   "id": "9e924ee1",
   "metadata": {
    "collapsed": false
   },
   "outputs": [
    {
     "data": {
      "text/plain": [
       "{'ntrn': 4880, 'ntst': 2515, 'nfeat': 1836, 'ncls': 159}"
      ]
     },
     "execution_count": 11,
     "metadata": {},
     "output_type": "execute_result"
    }
   ],
   "source": [
    "ds.shape"
   ]
  },
  {
   "cell_type": "code",
   "execution_count": 12,
   "id": "6f9db3c3",
   "metadata": {
    "collapsed": false
   },
   "outputs": [
    {
     "data": {
      "text/plain": [
       "array([28, 16, 13, ...,  1,  1,  1], dtype=uint64)"
      ]
     },
     "execution_count": 12,
     "metadata": {},
     "output_type": "execute_result"
    }
   ],
   "source": [
    "sizes = flatten(ds.trn_Y.sum(axis=1))\n",
    "np.sort(sizes)[::-1]"
   ]
  },
  {
   "cell_type": "code",
   "execution_count": 13,
   "id": "4bd7489b",
   "metadata": {
    "collapsed": false
   },
   "outputs": [
    {
     "data": {
      "text/plain": [
       "array([9.99321437e-01, 2.43974960e-04, 3.04968700e-05, ...,\n",
       "       7.44552491e-09, 7.44552491e-09, 7.44552491e-09])"
      ]
     },
     "execution_count": 13,
     "metadata": {},
     "output_type": "execute_result"
    }
   ],
   "source": [
    "weights = np.power(2, sizes)\n",
    "probas = weights / weights.sum()\n",
    "np.sort(probas)[::-1]"
   ]
  }
 ],
 "metadata": {
  "kernelspec": {
   "argv": [
    "python",
    "-m",
    "ipykernel_launcher",
    "-f",
    "{connection_file}"
   ],
   "display_name": "Python 3 (ipykernel)",
   "env": null,
   "interrupt_mode": "signal",
   "language": "python",
   "metadata": {
    "debugger": true
   },
   "name": "python3"
  },
  "name": "limitation_of_boley_framework.ipynb"
 },
 "nbformat": 4,
 "nbformat_minor": 5
}
